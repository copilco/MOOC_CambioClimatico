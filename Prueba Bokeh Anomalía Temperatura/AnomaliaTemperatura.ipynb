{
 "cells": [
  {
   "cell_type": "code",
   "execution_count": 2,
   "metadata": {
    "colab": {
     "autoexec": {
      "startup": false,
      "wait_interval": 0
     },
     "base_uri": "https://localhost:8080/",
     "height": 227,
     "output_extras": [
      {
       "item_id": 2
      },
      {
       "item_id": 3
      },
      {
       "item_id": 4
      }
     ]
    },
    "colab_type": "code",
    "executionInfo": {
     "elapsed": 3042,
     "status": "ok",
     "timestamp": 1519136281625,
     "user": {
      "displayName": "ANTONIO SANCHEZ PUENTE",
      "photoUrl": "https://lh3.googleusercontent.com/a/default-user=s128",
      "userId": "110308031573529900925"
     },
     "user_tz": -60
    },
    "id": "pLKMSCqbjhpI",
    "outputId": "72f6273a-1c56-4049-d2d8-9a0ad6fa87be"
   },
   "outputs": [
    {
     "name": "stdout",
     "output_type": "stream",
     "text": [
      "/bin/sh: pip: command not found\r\n"
     ]
    }
   ],
   "source": [
    "#Cargamos las librerías\n",
    "import numpy as np\n",
    "!pip install bokeh\n",
    "import bokeh.plotting as bkp\n",
    "import bokeh.models as bkm\n",
    "import pandas as pd\n",
    "import datetime as dt\n"
   ]
  },
  {
   "cell_type": "code",
   "execution_count": 4,
   "metadata": {
    "colab": {
     "autoexec": {
      "startup": false,
      "wait_interval": 0
     }
    },
    "colab_type": "code",
    "id": "rlujSFHljhpN"
   },
   "outputs": [],
   "source": [
    "#Obtenemos los datos de anomalías de temperaturas de la página de NOAA (descargada en la carpeta)\n",
    "#https://www.ncdc.noaa.gov/monitoring-references/faq/anomalies.php\n",
    "#Usamos la 5 línea como encabezados (header=4) de las columnas, y leemos el archivo a partir de ahí\n",
    "temp_anomalia=pd.read_csv(\"https://www.ncdc.noaa.gov/cag/time-series/global/globe/land_ocean/p12/12/1880-2017.csv\", sep=\",\", header=4,comment='#')"
   ]
  },
  {
   "cell_type": "code",
   "execution_count": 5,
   "metadata": {
    "colab": {
     "autoexec": {
      "startup": false,
      "wait_interval": 0
     },
     "base_uri": "https://localhost:8080/",
     "height": 204,
     "output_extras": [
      {
       "item_id": 1
      }
     ]
    },
    "colab_type": "code",
    "executionInfo": {
     "elapsed": 542,
     "status": "ok",
     "timestamp": 1519136284380,
     "user": {
      "displayName": "ANTONIO SANCHEZ PUENTE",
      "photoUrl": "https://lh3.googleusercontent.com/a/default-user=s128",
      "userId": "110308031573529900925"
     },
     "user_tz": -60
    },
    "id": "Povlu-cCjhpP",
    "outputId": "2cd06a31-0b88-499d-b39d-9a600eb87e1b"
   },
   "outputs": [
    {
     "data": {
      "text/html": [
       "<div>\n",
       "<style scoped>\n",
       "    .dataframe tbody tr th:only-of-type {\n",
       "        vertical-align: middle;\n",
       "    }\n",
       "\n",
       "    .dataframe tbody tr th {\n",
       "        vertical-align: top;\n",
       "    }\n",
       "\n",
       "    .dataframe thead th {\n",
       "        text-align: right;\n",
       "    }\n",
       "</style>\n",
       "<table border=\"1\" class=\"dataframe\">\n",
       "  <thead>\n",
       "    <tr style=\"text-align: right;\">\n",
       "      <th></th>\n",
       "      <th>Year</th>\n",
       "      <th>Value</th>\n",
       "    </tr>\n",
       "  </thead>\n",
       "  <tbody>\n",
       "    <tr>\n",
       "      <th>0</th>\n",
       "      <td>188001</td>\n",
       "      <td>0.00</td>\n",
       "    </tr>\n",
       "    <tr>\n",
       "      <th>1</th>\n",
       "      <td>188002</td>\n",
       "      <td>-0.12</td>\n",
       "    </tr>\n",
       "    <tr>\n",
       "      <th>2</th>\n",
       "      <td>188003</td>\n",
       "      <td>-0.13</td>\n",
       "    </tr>\n",
       "    <tr>\n",
       "      <th>3</th>\n",
       "      <td>188004</td>\n",
       "      <td>-0.05</td>\n",
       "    </tr>\n",
       "    <tr>\n",
       "      <th>4</th>\n",
       "      <td>188005</td>\n",
       "      <td>-0.07</td>\n",
       "    </tr>\n",
       "  </tbody>\n",
       "</table>\n",
       "</div>"
      ],
      "text/plain": [
       "     Year  Value\n",
       "0  188001   0.00\n",
       "1  188002  -0.12\n",
       "2  188003  -0.13\n",
       "3  188004  -0.05\n",
       "4  188005  -0.07"
      ]
     },
     "execution_count": 5,
     "metadata": {},
     "output_type": "execute_result"
    }
   ],
   "source": [
    "#Leemos las primeras 5 filas para ver que se han cargado bien los datos\n",
    "temp_anomalia.head(n=5)"
   ]
  },
  {
   "cell_type": "code",
   "execution_count": 6,
   "metadata": {
    "colab": {
     "autoexec": {
      "startup": false,
      "wait_interval": 0
     }
    },
    "colab_type": "code",
    "id": "C4ycCaN-jhpS"
   },
   "outputs": [],
   "source": [
    "#renombramos los encabezados\n",
    "temp_anomalia.set_axis(['fecha','anomalia'], axis=1, inplace=True)"
   ]
  },
  {
   "cell_type": "code",
   "execution_count": 7,
   "metadata": {
    "colab": {
     "autoexec": {
      "startup": false,
      "wait_interval": 0
     }
    },
    "colab_type": "code",
    "id": "84ChP2qajhpU"
   },
   "outputs": [],
   "source": [
    "#transformamos la fecha al formato estándar\n",
    "temp_anomalia['fecha']=pd.to_datetime(temp_anomalia['fecha'],format=\"%Y%m\")"
   ]
  },
  {
   "cell_type": "code",
   "execution_count": 8,
   "metadata": {
    "colab": {
     "autoexec": {
      "startup": false,
      "wait_interval": 0
     }
    },
    "colab_type": "code",
    "id": "D0v2kjQejhpW"
   },
   "outputs": [],
   "source": [
    "#Como los datos son mensuales, calculamos el promedio anual (La forma de hacerlo es una convolución con \n",
    "#un vector con 12 unos. Posteriormente habría que dividir entre 12, excepto en los bordes, que la convolución toma\n",
    "#menos datos. Para saber entre que número hay que dividir, uso una columna auxiliar llena de unos a la cual también\n",
    "#realizo la misma convolución). Suena raro, pero es escueto de programar.\n",
    "\n",
    "window_size = 12\n",
    "window = np.ones(window_size)\n",
    "columna_aux = np.ones(len(temp_anomalia['fecha']))\n",
    "temp_anomalia['media_anual']=np.convolve(temp_anomalia['anomalia'], window, 'same')/np.convolve(columna_aux, window, 'same')"
   ]
  },
  {
   "cell_type": "code",
   "execution_count": 9,
   "metadata": {
    "colab": {
     "autoexec": {
      "startup": false,
      "wait_interval": 0
     }
    },
    "colab_type": "code",
    "id": "TgTNbUGYjhpY"
   },
   "outputs": [],
   "source": [
    "#Ahora calculamos el promedio a 10 años con el mismo procedimiento.\n",
    "window_size = 120\n",
    "window = np.ones(window_size)\n",
    "columna_aux = np.ones(len(temp_anomalia['fecha']))\n",
    "temp_anomalia['media_10años']=np.convolve(temp_anomalia['anomalia'], window, 'same')/np.convolve(columna_aux, window, 'same')"
   ]
  },
  {
   "cell_type": "code",
   "execution_count": 10,
   "metadata": {
    "colab": {
     "autoexec": {
      "startup": false,
      "wait_interval": 0
     },
     "base_uri": "https://localhost:8080/",
     "height": 35,
     "output_extras": [
      {
       "item_id": 1
      }
     ]
    },
    "colab_type": "code",
    "executionInfo": {
     "elapsed": 551,
     "status": "ok",
     "timestamp": 1519136955927,
     "user": {
      "displayName": "ANTONIO SANCHEZ PUENTE",
      "photoUrl": "https://lh3.googleusercontent.com/a/default-user=s128",
      "userId": "110308031573529900925"
     },
     "user_tz": -60
    },
    "id": "53DLvoqvjhpZ",
    "outputId": "019dd70b-22f4-4058-d534-faa0533da6c0"
   },
   "outputs": [
    {
     "data": {
      "text/html": [
       "<div style=\"display: table;\"><div style=\"display: table-row;\"><div style=\"display: table-cell;\"><b title=\"bokeh.models.renderers.GlyphRenderer\">GlyphRenderer</b>(</div><div style=\"display: table-cell;\">id&nbsp;=&nbsp;'0f9fba97-e746-4906-87aa-6feede13d126', <span id=\"b37e718e-ceb8-402d-bd21-46a887a6a249\" style=\"cursor: pointer;\">&hellip;)</span></div></div><div class=\"3b1b893f-caa2-4d3e-bdda-8025edb19df6\" style=\"display: none;\"><div style=\"display: table-cell;\"></div><div style=\"display: table-cell;\">data_source&nbsp;=&nbsp;ColumnDataSource(id='3ff942eb-2b0b-451e-8829-45776ffee507', ...),</div></div><div class=\"3b1b893f-caa2-4d3e-bdda-8025edb19df6\" style=\"display: none;\"><div style=\"display: table-cell;\"></div><div style=\"display: table-cell;\">glyph&nbsp;=&nbsp;Line(id='25e5d178-397a-4c79-ab84-a00a90f400d6', ...),</div></div><div class=\"3b1b893f-caa2-4d3e-bdda-8025edb19df6\" style=\"display: none;\"><div style=\"display: table-cell;\"></div><div style=\"display: table-cell;\">hover_glyph&nbsp;=&nbsp;None,</div></div><div class=\"3b1b893f-caa2-4d3e-bdda-8025edb19df6\" style=\"display: none;\"><div style=\"display: table-cell;\"></div><div style=\"display: table-cell;\">js_event_callbacks&nbsp;=&nbsp;{},</div></div><div class=\"3b1b893f-caa2-4d3e-bdda-8025edb19df6\" style=\"display: none;\"><div style=\"display: table-cell;\"></div><div style=\"display: table-cell;\">js_property_callbacks&nbsp;=&nbsp;{},</div></div><div class=\"3b1b893f-caa2-4d3e-bdda-8025edb19df6\" style=\"display: none;\"><div style=\"display: table-cell;\"></div><div style=\"display: table-cell;\">level&nbsp;=&nbsp;'glyph',</div></div><div class=\"3b1b893f-caa2-4d3e-bdda-8025edb19df6\" style=\"display: none;\"><div style=\"display: table-cell;\"></div><div style=\"display: table-cell;\">muted&nbsp;=&nbsp;False,</div></div><div class=\"3b1b893f-caa2-4d3e-bdda-8025edb19df6\" style=\"display: none;\"><div style=\"display: table-cell;\"></div><div style=\"display: table-cell;\">muted_glyph&nbsp;=&nbsp;None,</div></div><div class=\"3b1b893f-caa2-4d3e-bdda-8025edb19df6\" style=\"display: none;\"><div style=\"display: table-cell;\"></div><div style=\"display: table-cell;\">name&nbsp;=&nbsp;None,</div></div><div class=\"3b1b893f-caa2-4d3e-bdda-8025edb19df6\" style=\"display: none;\"><div style=\"display: table-cell;\"></div><div style=\"display: table-cell;\">nonselection_glyph&nbsp;=&nbsp;Line(id='5f3a7d8e-9500-43b2-8411-529ca8047c2f', ...),</div></div><div class=\"3b1b893f-caa2-4d3e-bdda-8025edb19df6\" style=\"display: none;\"><div style=\"display: table-cell;\"></div><div style=\"display: table-cell;\">selection_glyph&nbsp;=&nbsp;None,</div></div><div class=\"3b1b893f-caa2-4d3e-bdda-8025edb19df6\" style=\"display: none;\"><div style=\"display: table-cell;\"></div><div style=\"display: table-cell;\">subscribed_events&nbsp;=&nbsp;[],</div></div><div class=\"3b1b893f-caa2-4d3e-bdda-8025edb19df6\" style=\"display: none;\"><div style=\"display: table-cell;\"></div><div style=\"display: table-cell;\">tags&nbsp;=&nbsp;[],</div></div><div class=\"3b1b893f-caa2-4d3e-bdda-8025edb19df6\" style=\"display: none;\"><div style=\"display: table-cell;\"></div><div style=\"display: table-cell;\">view&nbsp;=&nbsp;CDSView(id='95671230-8db8-46f4-9084-df6e57746bea', ...),</div></div><div class=\"3b1b893f-caa2-4d3e-bdda-8025edb19df6\" style=\"display: none;\"><div style=\"display: table-cell;\"></div><div style=\"display: table-cell;\">visible&nbsp;=&nbsp;True,</div></div><div class=\"3b1b893f-caa2-4d3e-bdda-8025edb19df6\" style=\"display: none;\"><div style=\"display: table-cell;\"></div><div style=\"display: table-cell;\">x_range_name&nbsp;=&nbsp;'default',</div></div><div class=\"3b1b893f-caa2-4d3e-bdda-8025edb19df6\" style=\"display: none;\"><div style=\"display: table-cell;\"></div><div style=\"display: table-cell;\">y_range_name&nbsp;=&nbsp;'default')</div></div></div>\n",
       "<script>\n",
       "(function() {\n",
       "  var expanded = false;\n",
       "  var ellipsis = document.getElementById(\"b37e718e-ceb8-402d-bd21-46a887a6a249\");\n",
       "  ellipsis.addEventListener(\"click\", function() {\n",
       "    var rows = document.getElementsByClassName(\"3b1b893f-caa2-4d3e-bdda-8025edb19df6\");\n",
       "    for (var i = 0; i < rows.length; i++) {\n",
       "      var el = rows[i];\n",
       "      el.style.display = expanded ? \"none\" : \"table-row\";\n",
       "    }\n",
       "    ellipsis.innerHTML = expanded ? \"&hellip;)\" : \"&lsaquo;&lsaquo;&lsaquo;\";\n",
       "    expanded = !expanded;\n",
       "  });\n",
       "})();\n",
       "</script>\n"
      ],
      "text/plain": [
       "GlyphRenderer(id='0f9fba97-e746-4906-87aa-6feede13d126', ...)"
      ]
     },
     "execution_count": 10,
     "metadata": {},
     "output_type": "execute_result"
    }
   ],
   "source": [
    "#Creamos una figura de Bokeh que va a contener nuestra gráfica. Indico el tamaño, que el eje X van a ser fechas\n",
    "#y las herramientas activas (mover la gráfica y hacer zoom con el ratón)\n",
    "\n",
    "p = bkp.figure(tools=[\"pan,wheel_zoom,box_zoom,save,reset\"],\n",
    "               width=900, height=500, x_axis_type=\"datetime\", active_drag = \"pan\", active_scroll = \"wheel_zoom\")\n",
    "\n",
    "#Represento los datos mensuales como puntos rojos\n",
    "p.circle(temp_anomalia['fecha'], temp_anomalia['anomalia'], size=4, color='red', alpha=0.4, legend='Datos Mensuales')\n",
    "\n",
    "#Represento el promedio anual como una línea azul\n",
    "p.line(temp_anomalia['fecha'], temp_anomalia['media_anual'], color='navy', alpha=0.7, \n",
    "       legend='Promedio anual',line_width=3)\n",
    "\n",
    "#Represento el promedio a 10 años como una línea negra\n",
    "p.line(temp_anomalia['fecha'], temp_anomalia['media_10años'], color='black', alpha=0.8, \n",
    "       legend='Promedio 10 años',line_width=3)"
   ]
  },
  {
   "cell_type": "code",
   "execution_count": 11,
   "metadata": {
    "colab": {
     "autoexec": {
      "startup": false,
      "wait_interval": 0
     }
    },
    "colab_type": "code",
    "id": "-BOgGvmZjhpb"
   },
   "outputs": [],
   "source": [
    "#Indico las propiedades del gráfico\n",
    "p.title.text = \"Anomalía de Temperatura Respecto a la Media entre 1901-2000\"\n",
    "p.title.text_color = \"black\"\n",
    "p.title.text_font = \"garamond\"\n",
    "p.title.text_font_style = \"bold\"\n",
    "p.title.text_font_size = \"16pt\"\n",
    "p.title.align = \"center\"\n",
    "\n",
    "p.legend.location = \"top_left\"\n",
    "\n",
    "p.background_fill_color = \"olive\"\n",
    "p.background_fill_alpha = 0.1\n",
    "\n",
    "p.xaxis.axis_label = 'Fecha'\n",
    "p.xaxis.axis_label_text_font_style = \"italic\"\n",
    "p.xaxis.axis_label_text_font_size = \"14pt\"\n",
    "p.yaxis.axis_label = 'Anomalía ºC'\n",
    "p.yaxis.axis_label_text_font_style  = \"italic\"\n",
    "p.yaxis.axis_label_text_font_size = \"14pt\"\n",
    "\n",
    "p.ygrid.grid_line_color=\"blue\"\n",
    "p.ygrid.grid_line_alpha=0.1\n",
    "p.xgrid.grid_line_color=\"blue\"\n",
    "p.xgrid.grid_line_alpha=0.1\n",
    "\n",
    "p.yaxis.major_tick_line_color = \"red\"\n",
    "p.yaxis.major_tick_line_width = 3\n",
    "p.yaxis.minor_tick_line_color = \"orange\"\n",
    "\n",
    "p.outline_line_width = 7\n",
    "p.outline_line_alpha = 0.3\n",
    "p.outline_line_color = \"navy\"\n"
   ]
  },
  {
   "cell_type": "code",
   "execution_count": 12,
   "metadata": {
    "colab": {
     "autoexec": {
      "startup": false,
      "wait_interval": 0
     },
     "base_uri": "https://localhost:8080/",
     "height": 547,
     "output_extras": [
      {
       "item_id": 1
      },
      {
       "item_id": 2
      },
      {
       "item_id": 3
      },
      {
       "item_id": 4
      }
     ]
    },
    "colab_type": "code",
    "executionInfo": {
     "elapsed": 898,
     "status": "ok",
     "timestamp": 1519137006789,
     "user": {
      "displayName": "ANTONIO SANCHEZ PUENTE",
      "photoUrl": "https://lh3.googleusercontent.com/a/default-user=s128",
      "userId": "110308031573529900925"
     },
     "user_tz": -60
    },
    "id": "QbAKUEyljhpe",
    "outputId": "11e04eda-bc91-4563-aced-8fa37ad13cf7"
   },
   "outputs": [
    {
     "data": {
      "text/html": [
       "\n",
       "    <div class=\"bk-root\">\n",
       "        <a href=\"https://bokeh.pydata.org\" target=\"_blank\" class=\"bk-logo bk-logo-small bk-logo-notebook\"></a>\n",
       "        <span id=\"14034044-cb65-4fb4-8a90-ce66b741fc46\">Loading BokehJS ...</span>\n",
       "    </div>"
      ]
     },
     "metadata": {},
     "output_type": "display_data"
    },
    {
     "data": {
      "application/javascript": [
       "\n",
       "(function(root) {\n",
       "  function now() {\n",
       "    return new Date();\n",
       "  }\n",
       "\n",
       "  var force = true;\n",
       "\n",
       "  if (typeof (root._bokeh_onload_callbacks) === \"undefined\" || force === true) {\n",
       "    root._bokeh_onload_callbacks = [];\n",
       "    root._bokeh_is_loading = undefined;\n",
       "  }\n",
       "\n",
       "  var JS_MIME_TYPE = 'application/javascript';\n",
       "  var HTML_MIME_TYPE = 'text/html';\n",
       "  var EXEC_MIME_TYPE = 'application/vnd.bokehjs_exec.v0+json';\n",
       "  var CLASS_NAME = 'output_bokeh rendered_html';\n",
       "\n",
       "  /**\n",
       "   * Render data to the DOM node\n",
       "   */\n",
       "  function render(props, node) {\n",
       "    var script = document.createElement(\"script\");\n",
       "    node.appendChild(script);\n",
       "  }\n",
       "\n",
       "  /**\n",
       "   * Handle when an output is cleared or removed\n",
       "   */\n",
       "  function handleClearOutput(event, handle) {\n",
       "    var cell = handle.cell;\n",
       "\n",
       "    var id = cell.output_area._bokeh_element_id;\n",
       "    var server_id = cell.output_area._bokeh_server_id;\n",
       "    // Clean up Bokeh references\n",
       "    if (id !== undefined) {\n",
       "      Bokeh.index[id].model.document.clear();\n",
       "      delete Bokeh.index[id];\n",
       "    }\n",
       "\n",
       "    if (server_id !== undefined) {\n",
       "      // Clean up Bokeh references\n",
       "      var cmd = \"from bokeh.io.state import curstate; print(curstate().uuid_to_server['\" + server_id + \"'].get_sessions()[0].document.roots[0]._id)\";\n",
       "      cell.notebook.kernel.execute(cmd, {\n",
       "        iopub: {\n",
       "          output: function(msg) {\n",
       "            var element_id = msg.content.text.trim();\n",
       "            Bokeh.index[element_id].model.document.clear();\n",
       "            delete Bokeh.index[element_id];\n",
       "          }\n",
       "        }\n",
       "      });\n",
       "      // Destroy server and session\n",
       "      var cmd = \"import bokeh.io.notebook as ion; ion.destroy_server('\" + server_id + \"')\";\n",
       "      cell.notebook.kernel.execute(cmd);\n",
       "    }\n",
       "  }\n",
       "\n",
       "  /**\n",
       "   * Handle when a new output is added\n",
       "   */\n",
       "  function handleAddOutput(event, handle) {\n",
       "    var output_area = handle.output_area;\n",
       "    var output = handle.output;\n",
       "\n",
       "    // limit handleAddOutput to display_data with EXEC_MIME_TYPE content only\n",
       "    if ((output.output_type != \"display_data\") || (!output.data.hasOwnProperty(EXEC_MIME_TYPE))) {\n",
       "      return\n",
       "    }\n",
       "\n",
       "    var toinsert = output_area.element.find(`.${CLASS_NAME.split(' ')[0]}`);\n",
       "\n",
       "    if (output.metadata[EXEC_MIME_TYPE][\"id\"] !== undefined) {\n",
       "      toinsert[0].firstChild.textContent = output.data[JS_MIME_TYPE];\n",
       "      // store reference to embed id on output_area\n",
       "      output_area._bokeh_element_id = output.metadata[EXEC_MIME_TYPE][\"id\"];\n",
       "    }\n",
       "    if (output.metadata[EXEC_MIME_TYPE][\"server_id\"] !== undefined) {\n",
       "      var bk_div = document.createElement(\"div\");\n",
       "      bk_div.innerHTML = output.data[HTML_MIME_TYPE];\n",
       "      var script_attrs = bk_div.children[0].attributes;\n",
       "      for (var i = 0; i < script_attrs.length; i++) {\n",
       "        toinsert[0].firstChild.setAttribute(script_attrs[i].name, script_attrs[i].value);\n",
       "      }\n",
       "      // store reference to server id on output_area\n",
       "      output_area._bokeh_server_id = output.metadata[EXEC_MIME_TYPE][\"server_id\"];\n",
       "    }\n",
       "  }\n",
       "\n",
       "  function register_renderer(events, OutputArea) {\n",
       "\n",
       "    function append_mime(data, metadata, element) {\n",
       "      // create a DOM node to render to\n",
       "      var toinsert = this.create_output_subarea(\n",
       "        metadata,\n",
       "        CLASS_NAME,\n",
       "        EXEC_MIME_TYPE\n",
       "      );\n",
       "      this.keyboard_manager.register_events(toinsert);\n",
       "      // Render to node\n",
       "      var props = {data: data, metadata: metadata[EXEC_MIME_TYPE]};\n",
       "      render(props, toinsert[0]);\n",
       "      element.append(toinsert);\n",
       "      return toinsert\n",
       "    }\n",
       "\n",
       "    /* Handle when an output is cleared or removed */\n",
       "    events.on('clear_output.CodeCell', handleClearOutput);\n",
       "    events.on('delete.Cell', handleClearOutput);\n",
       "\n",
       "    /* Handle when a new output is added */\n",
       "    events.on('output_added.OutputArea', handleAddOutput);\n",
       "\n",
       "    /**\n",
       "     * Register the mime type and append_mime function with output_area\n",
       "     */\n",
       "    OutputArea.prototype.register_mime_type(EXEC_MIME_TYPE, append_mime, {\n",
       "      /* Is output safe? */\n",
       "      safe: true,\n",
       "      /* Index of renderer in `output_area.display_order` */\n",
       "      index: 0\n",
       "    });\n",
       "  }\n",
       "\n",
       "  // register the mime type if in Jupyter Notebook environment and previously unregistered\n",
       "  if (root.Jupyter !== undefined) {\n",
       "    var events = require('base/js/events');\n",
       "    var OutputArea = require('notebook/js/outputarea').OutputArea;\n",
       "\n",
       "    if (OutputArea.prototype.mime_types().indexOf(EXEC_MIME_TYPE) == -1) {\n",
       "      register_renderer(events, OutputArea);\n",
       "    }\n",
       "  }\n",
       "\n",
       "  \n",
       "  if (typeof (root._bokeh_timeout) === \"undefined\" || force === true) {\n",
       "    root._bokeh_timeout = Date.now() + 5000;\n",
       "    root._bokeh_failed_load = false;\n",
       "  }\n",
       "\n",
       "  var NB_LOAD_WARNING = {'data': {'text/html':\n",
       "     \"<div style='background-color: #fdd'>\\n\"+\n",
       "     \"<p>\\n\"+\n",
       "     \"BokehJS does not appear to have successfully loaded. If loading BokehJS from CDN, this \\n\"+\n",
       "     \"may be due to a slow or bad network connection. Possible fixes:\\n\"+\n",
       "     \"</p>\\n\"+\n",
       "     \"<ul>\\n\"+\n",
       "     \"<li>re-rerun `output_notebook()` to attempt to load from CDN again, or</li>\\n\"+\n",
       "     \"<li>use INLINE resources instead, as so:</li>\\n\"+\n",
       "     \"</ul>\\n\"+\n",
       "     \"<code>\\n\"+\n",
       "     \"from bokeh.resources import INLINE\\n\"+\n",
       "     \"output_notebook(resources=INLINE)\\n\"+\n",
       "     \"</code>\\n\"+\n",
       "     \"</div>\"}};\n",
       "\n",
       "  function display_loaded() {\n",
       "    var el = document.getElementById(\"14034044-cb65-4fb4-8a90-ce66b741fc46\");\n",
       "    if (el != null) {\n",
       "      el.textContent = \"BokehJS is loading...\";\n",
       "    }\n",
       "    if (root.Bokeh !== undefined) {\n",
       "      if (el != null) {\n",
       "        el.textContent = \"BokehJS \" + root.Bokeh.version + \" successfully loaded.\";\n",
       "      }\n",
       "    } else if (Date.now() < root._bokeh_timeout) {\n",
       "      setTimeout(display_loaded, 100)\n",
       "    }\n",
       "  }\n",
       "\n",
       "\n",
       "  function run_callbacks() {\n",
       "    try {\n",
       "      root._bokeh_onload_callbacks.forEach(function(callback) { callback() });\n",
       "    }\n",
       "    finally {\n",
       "      delete root._bokeh_onload_callbacks\n",
       "    }\n",
       "    console.info(\"Bokeh: all callbacks have finished\");\n",
       "  }\n",
       "\n",
       "  function load_libs(js_urls, callback) {\n",
       "    root._bokeh_onload_callbacks.push(callback);\n",
       "    if (root._bokeh_is_loading > 0) {\n",
       "      console.log(\"Bokeh: BokehJS is being loaded, scheduling callback at\", now());\n",
       "      return null;\n",
       "    }\n",
       "    if (js_urls == null || js_urls.length === 0) {\n",
       "      run_callbacks();\n",
       "      return null;\n",
       "    }\n",
       "    console.log(\"Bokeh: BokehJS not loaded, scheduling load and callback at\", now());\n",
       "    root._bokeh_is_loading = js_urls.length;\n",
       "    for (var i = 0; i < js_urls.length; i++) {\n",
       "      var url = js_urls[i];\n",
       "      var s = document.createElement('script');\n",
       "      s.src = url;\n",
       "      s.async = false;\n",
       "      s.onreadystatechange = s.onload = function() {\n",
       "        root._bokeh_is_loading--;\n",
       "        if (root._bokeh_is_loading === 0) {\n",
       "          console.log(\"Bokeh: all BokehJS libraries loaded\");\n",
       "          run_callbacks()\n",
       "        }\n",
       "      };\n",
       "      s.onerror = function() {\n",
       "        console.warn(\"failed to load library \" + url);\n",
       "      };\n",
       "      console.log(\"Bokeh: injecting script tag for BokehJS library: \", url);\n",
       "      document.getElementsByTagName(\"head\")[0].appendChild(s);\n",
       "    }\n",
       "  };var element = document.getElementById(\"14034044-cb65-4fb4-8a90-ce66b741fc46\");\n",
       "  if (element == null) {\n",
       "    console.log(\"Bokeh: ERROR: autoload.js configured with elementid '14034044-cb65-4fb4-8a90-ce66b741fc46' but no matching script tag was found. \")\n",
       "    return false;\n",
       "  }\n",
       "\n",
       "  var js_urls = [\"https://cdn.pydata.org/bokeh/release/bokeh-0.12.10.min.js\", \"https://cdn.pydata.org/bokeh/release/bokeh-widgets-0.12.10.min.js\", \"https://cdn.pydata.org/bokeh/release/bokeh-tables-0.12.10.min.js\", \"https://cdn.pydata.org/bokeh/release/bokeh-gl-0.12.10.min.js\"];\n",
       "\n",
       "  var inline_js = [\n",
       "    function(Bokeh) {\n",
       "      Bokeh.set_log_level(\"info\");\n",
       "    },\n",
       "    \n",
       "    function(Bokeh) {\n",
       "      \n",
       "    },\n",
       "    function(Bokeh) {\n",
       "      console.log(\"Bokeh: injecting CSS: https://cdn.pydata.org/bokeh/release/bokeh-0.12.10.min.css\");\n",
       "      Bokeh.embed.inject_css(\"https://cdn.pydata.org/bokeh/release/bokeh-0.12.10.min.css\");\n",
       "      console.log(\"Bokeh: injecting CSS: https://cdn.pydata.org/bokeh/release/bokeh-widgets-0.12.10.min.css\");\n",
       "      Bokeh.embed.inject_css(\"https://cdn.pydata.org/bokeh/release/bokeh-widgets-0.12.10.min.css\");\n",
       "      console.log(\"Bokeh: injecting CSS: https://cdn.pydata.org/bokeh/release/bokeh-tables-0.12.10.min.css\");\n",
       "      Bokeh.embed.inject_css(\"https://cdn.pydata.org/bokeh/release/bokeh-tables-0.12.10.min.css\");\n",
       "    }\n",
       "  ];\n",
       "\n",
       "  function run_inline_js() {\n",
       "    \n",
       "    if ((root.Bokeh !== undefined) || (force === true)) {\n",
       "      for (var i = 0; i < inline_js.length; i++) {\n",
       "        inline_js[i].call(root, root.Bokeh);\n",
       "      }if (force === true) {\n",
       "        display_loaded();\n",
       "      }} else if (Date.now() < root._bokeh_timeout) {\n",
       "      setTimeout(run_inline_js, 100);\n",
       "    } else if (!root._bokeh_failed_load) {\n",
       "      console.log(\"Bokeh: BokehJS failed to load within specified timeout.\");\n",
       "      root._bokeh_failed_load = true;\n",
       "    } else if (force !== true) {\n",
       "      var cell = $(document.getElementById(\"14034044-cb65-4fb4-8a90-ce66b741fc46\")).parents('.cell').data().cell;\n",
       "      cell.output_area.append_execute_result(NB_LOAD_WARNING)\n",
       "    }\n",
       "\n",
       "  }\n",
       "\n",
       "  if (root._bokeh_is_loading === 0) {\n",
       "    console.log(\"Bokeh: BokehJS loaded, going straight to plotting\");\n",
       "    run_inline_js();\n",
       "  } else {\n",
       "    load_libs(js_urls, function() {\n",
       "      console.log(\"Bokeh: BokehJS plotting callback run at\", now());\n",
       "      run_inline_js();\n",
       "    });\n",
       "  }\n",
       "}(window));"
      ],
      "application/vnd.bokehjs_load.v0+json": "\n(function(root) {\n  function now() {\n    return new Date();\n  }\n\n  var force = true;\n\n  if (typeof (root._bokeh_onload_callbacks) === \"undefined\" || force === true) {\n    root._bokeh_onload_callbacks = [];\n    root._bokeh_is_loading = undefined;\n  }\n\n  \n\n  \n  if (typeof (root._bokeh_timeout) === \"undefined\" || force === true) {\n    root._bokeh_timeout = Date.now() + 5000;\n    root._bokeh_failed_load = false;\n  }\n\n  var NB_LOAD_WARNING = {'data': {'text/html':\n     \"<div style='background-color: #fdd'>\\n\"+\n     \"<p>\\n\"+\n     \"BokehJS does not appear to have successfully loaded. If loading BokehJS from CDN, this \\n\"+\n     \"may be due to a slow or bad network connection. Possible fixes:\\n\"+\n     \"</p>\\n\"+\n     \"<ul>\\n\"+\n     \"<li>re-rerun `output_notebook()` to attempt to load from CDN again, or</li>\\n\"+\n     \"<li>use INLINE resources instead, as so:</li>\\n\"+\n     \"</ul>\\n\"+\n     \"<code>\\n\"+\n     \"from bokeh.resources import INLINE\\n\"+\n     \"output_notebook(resources=INLINE)\\n\"+\n     \"</code>\\n\"+\n     \"</div>\"}};\n\n  function display_loaded() {\n    var el = document.getElementById(\"14034044-cb65-4fb4-8a90-ce66b741fc46\");\n    if (el != null) {\n      el.textContent = \"BokehJS is loading...\";\n    }\n    if (root.Bokeh !== undefined) {\n      if (el != null) {\n        el.textContent = \"BokehJS \" + root.Bokeh.version + \" successfully loaded.\";\n      }\n    } else if (Date.now() < root._bokeh_timeout) {\n      setTimeout(display_loaded, 100)\n    }\n  }\n\n\n  function run_callbacks() {\n    try {\n      root._bokeh_onload_callbacks.forEach(function(callback) { callback() });\n    }\n    finally {\n      delete root._bokeh_onload_callbacks\n    }\n    console.info(\"Bokeh: all callbacks have finished\");\n  }\n\n  function load_libs(js_urls, callback) {\n    root._bokeh_onload_callbacks.push(callback);\n    if (root._bokeh_is_loading > 0) {\n      console.log(\"Bokeh: BokehJS is being loaded, scheduling callback at\", now());\n      return null;\n    }\n    if (js_urls == null || js_urls.length === 0) {\n      run_callbacks();\n      return null;\n    }\n    console.log(\"Bokeh: BokehJS not loaded, scheduling load and callback at\", now());\n    root._bokeh_is_loading = js_urls.length;\n    for (var i = 0; i < js_urls.length; i++) {\n      var url = js_urls[i];\n      var s = document.createElement('script');\n      s.src = url;\n      s.async = false;\n      s.onreadystatechange = s.onload = function() {\n        root._bokeh_is_loading--;\n        if (root._bokeh_is_loading === 0) {\n          console.log(\"Bokeh: all BokehJS libraries loaded\");\n          run_callbacks()\n        }\n      };\n      s.onerror = function() {\n        console.warn(\"failed to load library \" + url);\n      };\n      console.log(\"Bokeh: injecting script tag for BokehJS library: \", url);\n      document.getElementsByTagName(\"head\")[0].appendChild(s);\n    }\n  };var element = document.getElementById(\"14034044-cb65-4fb4-8a90-ce66b741fc46\");\n  if (element == null) {\n    console.log(\"Bokeh: ERROR: autoload.js configured with elementid '14034044-cb65-4fb4-8a90-ce66b741fc46' but no matching script tag was found. \")\n    return false;\n  }\n\n  var js_urls = [\"https://cdn.pydata.org/bokeh/release/bokeh-0.12.10.min.js\", \"https://cdn.pydata.org/bokeh/release/bokeh-widgets-0.12.10.min.js\", \"https://cdn.pydata.org/bokeh/release/bokeh-tables-0.12.10.min.js\", \"https://cdn.pydata.org/bokeh/release/bokeh-gl-0.12.10.min.js\"];\n\n  var inline_js = [\n    function(Bokeh) {\n      Bokeh.set_log_level(\"info\");\n    },\n    \n    function(Bokeh) {\n      \n    },\n    function(Bokeh) {\n      console.log(\"Bokeh: injecting CSS: https://cdn.pydata.org/bokeh/release/bokeh-0.12.10.min.css\");\n      Bokeh.embed.inject_css(\"https://cdn.pydata.org/bokeh/release/bokeh-0.12.10.min.css\");\n      console.log(\"Bokeh: injecting CSS: https://cdn.pydata.org/bokeh/release/bokeh-widgets-0.12.10.min.css\");\n      Bokeh.embed.inject_css(\"https://cdn.pydata.org/bokeh/release/bokeh-widgets-0.12.10.min.css\");\n      console.log(\"Bokeh: injecting CSS: https://cdn.pydata.org/bokeh/release/bokeh-tables-0.12.10.min.css\");\n      Bokeh.embed.inject_css(\"https://cdn.pydata.org/bokeh/release/bokeh-tables-0.12.10.min.css\");\n    }\n  ];\n\n  function run_inline_js() {\n    \n    if ((root.Bokeh !== undefined) || (force === true)) {\n      for (var i = 0; i < inline_js.length; i++) {\n        inline_js[i].call(root, root.Bokeh);\n      }if (force === true) {\n        display_loaded();\n      }} else if (Date.now() < root._bokeh_timeout) {\n      setTimeout(run_inline_js, 100);\n    } else if (!root._bokeh_failed_load) {\n      console.log(\"Bokeh: BokehJS failed to load within specified timeout.\");\n      root._bokeh_failed_load = true;\n    } else if (force !== true) {\n      var cell = $(document.getElementById(\"14034044-cb65-4fb4-8a90-ce66b741fc46\")).parents('.cell').data().cell;\n      cell.output_area.append_execute_result(NB_LOAD_WARNING)\n    }\n\n  }\n\n  if (root._bokeh_is_loading === 0) {\n    console.log(\"Bokeh: BokehJS loaded, going straight to plotting\");\n    run_inline_js();\n  } else {\n    load_libs(js_urls, function() {\n      console.log(\"Bokeh: BokehJS plotting callback run at\", now());\n      run_inline_js();\n    });\n  }\n}(window));"
     },
     "metadata": {},
     "output_type": "display_data"
    },
    {
     "data": {
      "text/html": [
       "\n",
       "<div class=\"bk-root\">\n",
       "    <div class=\"bk-plotdiv\" id=\"daa76e40-01c5-45ab-a42c-c31155c890ed\"></div>\n",
       "</div>"
      ]
     },
     "metadata": {},
     "output_type": "display_data"
    },
    {
     "data": {
      "application/javascript": [
       "(function(root) {\n",
       "  function embed_document(root) {\n",
       "    var docs_json = {\"992e32d4-3290-46ac-9fcc-36647c930b2c\":{\"roots\":{\"references\":[{\"attributes\":{\"source\":{\"id\":\"3ff942eb-2b0b-451e-8829-45776ffee507\",\"type\":\"ColumnDataSource\"}},\"id\":\"95671230-8db8-46f4-9084-df6e57746bea\",\"type\":\"CDSView\"},{\"attributes\":{},\"id\":\"04504963-b3ec-4b56-8dbc-9fc931ca89ec\",\"type\":\"DatetimeTickFormatter\"},{\"attributes\":{\"months\":[0,1,2,3,4,5,6,7,8,9,10,11]},\"id\":\"2feaebc5-125c-4c10-8c47-1f98274053fb\",\"type\":\"MonthsTicker\"},{\"attributes\":{\"line_alpha\":{\"value\":0.8},\"line_width\":{\"value\":3},\"x\":{\"field\":\"x\"},\"y\":{\"field\":\"y\"}},\"id\":\"25e5d178-397a-4c79-ab84-a00a90f400d6\",\"type\":\"Line\"},{\"attributes\":{},\"id\":\"2b60b136-f385-471f-8741-19157538d8be\",\"type\":\"BasicTicker\"},{\"attributes\":{\"callback\":null},\"id\":\"10c07da7-62d9-40ae-8d84-f398c4202424\",\"type\":\"DataRange1d\"},{\"attributes\":{},\"id\":\"156501cc-8f66-4682-b08b-104fd898ff55\",\"type\":\"LinearScale\"},{\"attributes\":{\"base\":60,\"mantissas\":[1,2,5,10,15,20,30],\"max_interval\":1800000.0,\"min_interval\":1000.0,\"num_minor_ticks\":0},\"id\":\"9c90f789-5735-4150-a769-fbb691660b74\",\"type\":\"AdaptiveTicker\"},{\"attributes\":{\"label\":{\"value\":\"Promedio anual\"},\"renderers\":[{\"id\":\"deed3845-056f-4dc7-af55-e1a48bbc3e73\",\"type\":\"GlyphRenderer\"}]},\"id\":\"af89ae19-2e1a-4b09-aec1-3c09d1475217\",\"type\":\"LegendItem\"},{\"attributes\":{\"callback\":null,\"column_names\":[\"x\",\"y\"],\"data\":{\"x\":{\"__ndarray__\":\"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\",\"dtype\":\"float64\",\"shape\":[1656]},\"y\":{\"__ndarray__\":\"C9ejcD0Kt7+amZmZmZm5v/YoXI/C9bi/wFjyiyW/uL/iehSuR+G6v7kehetRuL6/3d3d3d3dvb9LfrHkF0u+v2As+cWSX7y/9Shcj8L1uL9nZmZmZma2v3sUrkfherS/xpJfLPnFsr830GkDnTawv5NfLPnFkq+/f7HkF0t+sb9Z8oslv1iyv36x5BdLfrG/20CnDXTasL9wPQrXo3Ctv+N6FK5H4aq/LfnFkl8sqb+kcD0K16Owv0RERERERLS/VVVVVVVVtb/5xZJfLPm1v+m0gU4b6LS/SOF6FK5Hsb8RERERERGxv93d3d3d3a2/f7HkF0t+sb/1KFyPwvW4vwAAAAAAAMC/PQrXo3A9wr/hehSuR+HCv+F6FK5H4cK/f7HkF0t+wb+1gU4b6LTBvyMiIiIiIsK/vLu7u7u7w79PG+i0gU7Dv9ejcD0K18O/4XoUrkfhwr8HOm2g0wbCv22g0wY6bcC/LfnFkl8swb9I4XoUrkfBvxEREREREcG/GEt+seQXw79wPQrXo3DFv+UXS36x5Me/wFjyiyW/yL/bQKcNdNrIv+xRuB6F68m/x5JfLPnFyr9VVVVVVVXNv5020GkDnc6/Fa5H4XoUzr/UBjptoNPOv0RERERERNC/6LSBThvo0L+W/GLJL5bQv22g0wY6bdC/RERERERE0L8NdNpApw3Qv4FOG+i0gc6/YCz5xZJfzL8RERERERHJv0jhehSuR8m/q6qqqqqqyr/QaQOdNtDJv4iIiIiIiMi/5RdLfrHkx78L16NwPQrHv7gehetRuMa/uB6F61G4xr+tR+F6FK7Hv22g0wY6bci/q6qqqqqqyr+oDXTaQKfNv7gehetRuM6/cT0K16Nwzb+oDXTaQKfNv2dmZmZmZs6/+cWSXyz5zb8L16NwPQrPvw502kCnDdC/5RdLfrHkz79SuB6F61HQvxzotIFOG9C/RERERERE0L830GkDnTbQv+UXS36x5M+/pHA9Ctej0L+IiIiIiIjQvxvotIFOG9C/0wY6baDTzr87baDTBjrNv6DTBjptoMu/kML1KFyPyr9Apw102kDHvxWuR+F6FMa/hetRuB6Fw79toNMGOm3Av2PJL5b8Yrm/baDTBjptsL8L16NwPQqnv3+x5BdLfqG/ERERERERob80MzMzMzOjv+xRuB6F66G/U7gehetRqL+kcD0K16Owv4wlv1jyi7W/PQrXo3A9ur8AAAAAAADAv7HkF0t+scS/Y8kvlvxiyb+x5BdLfrHMv0RERERERNC/Y8kvlvxi0b/5xZJfLPnRv/1iyS+W/NK/oNMGOm2g078pXI/C9SjUv3sUrkfhetS/zczMzMzM1L/bQKcNdNrUv2TJL5b8YtW/zczMzMzM1L/AWPKLJb/Uv2oDnTbQadO/7+7u7u7u0r+dNtBpA53SvxSuR+F6FNK/BJ020GkD0b/bQKcNdNrQvx+F61G4HtG/DXTaQKcN0L+BThvotIHOvz0K16NwPcq/MzMzMzMzy7+8u7u7u7vLv1VVVVVVVc2/MJb8Yskvzr94d3d3d3fPv0VERERERNC/pHA9Ctej0L+JiIiIiIjQv/YoXI/C9dC/QacNdNpA07+bmZmZmZnVvylcj8L1KNi/vLu7u7u717/ziyW/WPLXvylcj8L1KNi/84slv1jy178lv1jyiyXXvwvXo3A9Cte/MzMzMzMz17/v7u7u7u7Wv0jhehSuR9W/DXTaQKcN1L/Hkl8s+cXSv7HkF0t+sdC/l/xiyS+W0L9gLPnFkl/Qvylcj8L1KNC/v1jyiyW/0L8s+cWSXyzRv/UoXI/C9dC/9Shcj8L10L8DnTbQaQPRv7WBThvotNG/tYFOG+i00b+1gU4b6LTRv6uqqqqqqtK/C9ejcD0K079Z8oslv1jSv97d3d3d3dG/jCW/WPKL0b8fhetRuB7Rv9pApw102tC/KVyPwvUo0L94d3d3d3fPv/nFkl8s+c2/KVyPwvUozL+lcD0K16PIvx+F61G4HsW/YCz5xZJfxL87baDTBjrFvw502kCnDcS/0WkDnTbQwb830GkDnTbAv83MzMzMzLy/hetRuB6Fu7/AWPKLJb+4v/UoXI/C9bi/MJb8Yskvtr/lF0t+seS3v4iIiIiIiLi/G+i0gU4buL/Fkl8s+cWyv0fhehSuR7G/frHkF0t+sb9I4XoUrkexv7WBThvotLG/20CnDXTasL9ERERERES0v2dmZmZmZra/Fa5H4XoUvr8YS36x5Be7v/Du7u7u7r6/lvxiyS+WxL9RuB6F61HIv2kDnTbQacu/seQXS36xzL/v7u7u7u7Ov1K4HoXrUdC/VVVVVVVV0b89CtejcD3SvzCW/GLJL9K/pHA9Ctej0L/1KFyPwvXQv/UoXI/C9dC/jCW/WPKLzb/Xo3A9CtfLv+xRuB6F68m/tYFOG+i0yb+JiIiIiIjIv7gehetRuMa/BJ020GkDxb/QaQOdNtDBvxhLfrHkF7u/S36x5BdLvr+JiIiIiIjAvwOdNtBpA72/iYiIiIiIuL9nZmZmZma2v3sUrkfherS/SOF6FK5Hsb8AAAAAAACwvzfQaQOdNrC/baDTBjptsL9xPQrXo3Ctv7HkF0t+sbS/pHA9CtejsL+V/GLJL5asvylcj8L1KKy/vLu7u7u7q7912kCnDXSqv9/d3d3d3a2/20CnDXTasL+QwvUoXI+yv9ejcD0K17O/C9ejcD0Kt78UrkfhehS+vxWuR+F6FL6/61G4HoXrwb+ZmZmZmZnBvyz5xZJfLMG//GLJL5b8wr8fhetRuB7Fv5020GkDnca/v1jyiyW/yL89CtejcD3Kv6DTBjptoMu/84slv1jyy7/ziyW/WPLLvzCW/GLJL86/lF8s+cWSz79toNMGOm3Qv6RwPQrXo9C/ERERERER0b+MJb9Y8ovRvz0K16NwPdK/dNpApw100r+rqqqqqqrSv5NfLPnFktO/UrgehetR1L8fhetRuB7Vv2PJL5b8YtW/fbHkF0t+1b9Apw102kDXv1VVVVVVVdm/nTbQaQOd2r9Bpw102kDbv3h3d3d3d9u/2KNwPQrX27+IiIiIiIjcv4iIiIiIiNy/9Shcj8L13L/bQKcNdNrcv61H4XoUrtu/4XoUrkfh2r/d3d3d3d3Zv5020GkDndq/61G4HoXr2b/QaQOdNtDZvxAREREREdm/DXTaQKcN2L+dNtBpA53Wv3+x5BdLftW/N9BpA5021L+TXyz5xZLTvyW/WPKLJdO/j8L1KFyP0r+ZmZmZmZnRv0GnDXTaQM+/seQXS36xzL9toNMGOm3Iv61H4XoUrse/1AY6baDTxr9cj8L1KFzHv3h3d3d3d8e/baDTBjptyL9TuB6F61HIv1Ab6LSBTsu/oNMGOm2gy7+MJb9Y8ovNv0CnDXTaQM+/UrgehetR0L/rUbgehevRv0GnDXTaQNO/UbgehetR1L/otIFOG+jUv3A9CtejcNW/mZmZmZmZ1b+1gU4b6LTVv3TaQKcNdNa/rUfhehSu17+7u7u7u7vXv6DTBjptoNe/VVVVVVVV2b8HOm2g0wbav6cNdNpAp9m/393d3d3d2b8UrkfhehTav+N6FK5H4dq/MzMzMzMz279gLPnFkl/cvzjQaQOdNty/KFyPwvUo3L87baDTBjrdv5mZmZmZmd2/SOF6FK5H3b+NJb9Y8ovdv9BpA5020N2/393d3d3d3b8VrkfhehTevy35xZJfLN2/9Shcj8L13L9TuB6F61HcvzMzMzMzM9u/XY/C9Shc278HOm2g0wbav4wlv1jyi9m/9Shcj8L12L/ziyW/WPLXvyW/WPKLJde/0wY6baDT1r9MfrHkF0vWv2dmZmZmZta/PQrXo3A91r9Z8oslv1jWv4XrUbgehde/U7gehetR2L9jyS+W/GLZv0x+seQXS9q/C9ejcD0K27/ziyW/WPLbv+i0gU4b6Ny/VVVVVVVV3b8IOm2g0wbev6uqqqqqqt6//WLJL5b83r+QwvUoXI/ev0jhehSuR92/k18s+cWS279LfrHkF0vavw102kCnDdi/q6qqqqqq1r8EnTbQaQPVv69H4XoUrtO/uR6F61G40r/sUbgehevRv+xRuB6F69G/gk4b6LSB0r94d3d3d3fTv1K4HoXrUdS/6bSBThvo1L9VVVVVVVXVv8eSXyz5xda/TxvotIFO178b6LSBThvYv/UoXI/C9di/mZmZmZmZ2b/QaQOdNtDZvx+F61G4Htm/U7gehetR2L8zMzMzMzPXv7SBThvotNW/////////07+ZmZmZmZnRvzfQaQOdNtC/w/UoXI/Czb+X/GLJL5bMvyMiIiIiIsq/G+i0gU4byL+dNtBpA53GvwSdNtBpA8W/GEt+seQXw7+/WPKLJb/Av6RwPQrXo8C/Y8kvlvxiwb/Xo3A9CtfDv6uqqqqqqsK/IyIiIiIiwr+4HoXrUbi+v83MzMzMzLy/dNpApw10ur+dNtBpA522v3sUrkfherS/MzMzMzMzs7/ptIFOG+i0v5DC9Shcj7K/f7HkF0t+sb9Z8oslv1iyv8P1KFyPwrW/0GkDnTbQub9LfrHkF0u+v79Y8oslv8C/84slv1jyw7+dNtBpA53Gv8BY8oslv8i/WfKLJb9Yyr9PG+i0gU7Lv12PwvUoXM+/dNpApw100r/Xo3A9CtfTv3A9CtejcNW/Fa5H4XoU1r+4HoXrUbjWv/OLJb9Y8te/r0fhehSu178YS36x5BfXv5DC9Shcj9a/fbHkF0t+1b99seQXS37VvxvotIFOG9S/5RdLfrHk07+4HoXrUbjSv7WBThvotNG/YCz5xZJf0L9FRERERETQv5820GkDnc6/6LSBThvozL87baDTBjrNvx+F61G4Hs2/+cWSXyz5zb8pXI/C9SjMv9ijcD0K18u/f7HkF0t+yb+bmZmZmZnJvwvXo3A9Cse/r0fhehSux79VVVVVVVXFv2As+cWSX8S/BJ020GkDxb8fhetRuB7Fv4wlv1jyi8W/3d3d3d3dxb8lv1jyiyXHv2PJL5b8Ysm/LPnFkl8syb8AAAAAAADIv+xRuB6F68m/G+i0gU4byL+ZmZmZmZnJv32x5BdLfsm/tIFOG+i0yb8HOm2g0wbKvz0K16NwPcq/PQrXo3A9yr89CtejcD3Kv5mZmZmZmcm/j8L1KFyPyr8HOm2g0wbKvyz5xZJfLMm/xZJfLPnFyr+rqqqqqqrKv8WSXyz5xcq/0GkDnTbQyb9toNMGOm3IvxzotIFOG8i/yS+W/GLJx78wlvxiyS/Gv3A9CtejcMW/PQrXo3A9wr8EnTbQaQPFv5020GkDnca/O22g0wY6xb9fLPnFkl/EvzttoNMGOsW/g04b6LSBxr8c6LSBThvIv/UoXI/C9ci/IyIiIiIiyr8NdNpApw3Mvylcj8L1KMy/6LSBThvozL+8u7u7u7vLv5X8Yskvlsy/nTbQaQOdzr9toNMGOm3Qv1G4HoXrUdC/rUfhehSuz7/JL5b8YsnPv+UXS36x5M+/yy+W/GLJz7/UBjptoNPOv2As+cWSX8y/q6qqqqqqyr8YS36x5BfLvxEREREREcm/XY/C9Shcx79nZmZmZmbGv/nFkl8s+cW/S36x5BdLxr+oDXTaQKfFv6gNdNpAp8W/Fa5H4XoUxr94d3d3d3fHv/1iyS+W/Mq/XI/C9Shcz78AAAAAAADQv3sUrkfhetC/v1jyiyW/0L9ERERERETQv1K4HoXrUdC/UrgehetR0L9ERERERETQv/Du7u7u7s6/A5020GkDzb9PG+i0gU7Lv3h3d3d3d8e/tYFOG+i0wb/1KFyPwvW4v0jhehSuR7G/U7gehetRqL8L16NwPQqnvzMzMzMzM6O/A5020GkDnb/AWPKLJb+Yv3sUrkfhepS/exSuR+F6lL8RERERERGRvwSdNtBpA52/BJ020GkDrb/D9Shcj8K1v4XrUbgehbu/SOF6FK5Hwb89CtejcD3CvzMzMzMzM8O/DXTaQKcNxL9pA5020GnDv7u7u7u7u8O/4XoUrkfhwr+1gU4b6LTBv0jhehSuR8G/WfKLJb9Ywr9H4XoUrkfBv79Y8oslv8C/20CnDXTawL8t+cWSXyzBv79Y8oslv8C/mZmZmZmZwb902kCnDXTCv08b6LSBTsO/A5020GkDxb+BThvotIHGv9MGOm2g08a/VVVVVVVVxb+1gU4b6LTJv/nFkl8s+c2/+MWSXyz5zb+BThvotIHOv61H4XoUrs+/rUfhehSuz79fLPnFkl/Qv22g0wY6bdC/iYiIiIiI0L+JiIiIiIjQv7HkF0t+sdC/gU4b6LSB0r+1gU4b6LTRv+UXS36x5M+/qA102kCnzb+V/GLJL5bMv6DTBjptoMu/61G4HoXryb+TXyz5xZLHvzCW/GLJL8a/H4XrUbgexb/Xo3A9CtfDv0jhehSuR8G/r0fhehSut7/sUbgeheuxv1nyiyW/WLK/SOF6FK5Hsb+kcD0K16Owv5NfLPnFkq+/TxvotIFOq7+bmZmZmZmpvwvXo3A9Cqe/xpJfLPnFor/Hkl8s+cWiv93d3d3d3a2/SOF6FK5Hsb+ZmZmZmZmpvwvXo3A9Cqe/uB6F61G4rr+ZmZmZmZmpv3TaQKcNdKq/baDTBjptsL+PwvUoXI+yvzCW/GLJL7a/rUfhehSut7/QaQOdNtC5v7y7u7u7u7u/pw102kCnvb+8u7u7u7vDv1VVVVVVVcW/+cWSXyz5xb+vR+F6FK7HvxzotIFOG8i/baDTBjptyL8t+cWSXyzJvyz5xZJfLMm/xZJfLPnFyr/Xo3A9CtfLv2As+cWSX8y/uB6F61G4zr/TBjptoNPOv7y7u7u7u8u/2KNwPQrXy78pXI/C9SjMv1nyiyW/WMq/UbgehetRyL9cj8L1KFzHv/jFkl8s+cW/6LSBThvoxL+g0wY6baDDv79Y8oslv8C/LfnFkl8sub/AWPKLJb+4v7LkF0t+sbS/j8L1KFyPsr/9Yskvlvyyv2VmZmZmZra/BzptoNMGur902kCnDXS6v4XrUbgehbu/43oUrkfhur+bmZmZmZm5v5NfLPnFkr+/Y8kvlvxiwb/2KFyPwvXAvxWuR+F6FMa/uB6F61G4xr/4xZJfLPnFvwOdNtBpA8W/RERERERExL8zMzMzMzPDv6uqqqqqqsK/IyIiIiIiwr89CtejcD3Cv1yPwvUoXL+/KVyPwvUovL902kCnDXS6v/1iyS+W/LK/WfKLJb9Ysr8RERERERGxv93d3d3d3a2/LfnFkl8sqb/AWPKLJb+ov1nyiyW/WKK/MJb8Yskvlr96FK5H4XqEv7UehetRuH6/TRvotIFOi79zFK5H4Xpkv3sUrkfheoS/EhERERERgT8L16NwPQqXPzCW/GLJL5Y/TxvotIFOiz/Fkl8s+cWCP1VVVVVVVSW8uR6F61G4fr8wlvxiyS+GvzCW/GLJL4a/wFjyiyW/mL9+seQXS36hvw502kCnDaS/3d3d3d3drb/Gkl8s+cWyvzMzMzMzM7O/f7HkF0t+sb830GkDnTawv3A9CtejcK2/uB6F61G4rr+1gU4b6LSxv9tApw102rC/MJb8Yskvhr+9HoXrUbh+v+MXS36x5Hc/A5020GkDnT+bmZmZmZmpP9/d3d3d3a0/f7HkF0t+sT97FK5H4Xq0Px+F61G4HrU/G+i0gU4buD/gehSuR+G6P/OLJb9Y8rs/9Shcj8L1uD9cj8L1KFy/P3+x5BdLfsE/tYFOG+i0wT+rqqqqqqrCP5b8YskvlsQ/HoXrUbgexT+nDXTaQKfFP4FOG+i0gcY/3d3d3d3dxT8b6LSBThvIP2PJL5b8Ysk/wFjyiyW/yD/rUbgehevJP4mIiIiIiMg/SOF6FK5HyT/3KFyPwvXIPxvotIFOG8g/iYiIiIiIyD9Apw102kDHP93d3d3d3cU/Fa5H4XoUxj9fLPnFkl/EP7y7u7u7u8M/GEt+seQXwz+TXyz5xZK/P6RwPQrXo8A/XY/C9Shcvz/v7u7u7u6+P0t+seQXS74/c9pApw10uj+V/GLJL5a8P93d3d3d3b0/g04b6LSBvj/2KFyPwvXAP+xRuB6F68E/KVyPwvUoxD/bQKcNdNrIPz0K16NwPco/O22g0wY6zT8wlvxiyS/OP5NfLPnFks8/cD0K16Nw0T8iIiIiIiLSPwrXo3A9CtM/UrgehetR1D9SuB6F61HUP7y7u7u7u9M/S36x5BdL0j/bQKcNdNrQP5020GkDnc4/2KNwPQrXyz/ziyW/WPLLP/1iyS+W/Mo/9Shcj8L1yD94d3d3d3fHP1O4HoXrUcg/C9ejcD0Kxz9nZmZmZmbGP+/u7u7u7sY/cT0K16NwxT8wlvxiyS/GPwvXo3A9Csc/393d3d3dxT/MzMzMzMzEP4/C9Shcj8I/yC+W/GLJvz9NG+i0gU67PyIiIiIiIrI/5RdLfrHkpz+bmZmZmZmZP08b6LSBTns/5RdLfrHkh794d3d3d3envyW/WPKLJa+/k18s+cWSr78zMzMzMzOzv8eSXyz5xbK/N9BpA502sL+UXyz5xZKvvyW/WPKLJa+/61G4HoXrsb+kcD0K16Owv6NwPQrXo7C/KFyPwvUorL9Z8oslv1iiv8eSXyz5xaK/dNpApw10qr/f3d3d3d2tvwvXo3A9Cqe/U7gehetRqL912kCnDXSqv8BY8oslv6i/eHd3d3d3p7+X/GLJL5asv0t+seQXS66/BJ020GkDrb8HOm2g0waqv5f8Yskvlqy/eHd3d3d3p797FK5H4Xqkv+F6FK5H4aq/N9BpA502sL9toNMGOm2wv22g0wY6bbC/Jb9Y8oslr7/d3d3d3d2tv3E9CtejcK2/N9BpA502sL+JiIiIiIi4vz0K16NwPbq/dNpApw10ur9LfrHkF0u+v1yPwvUoXL+/cD0K16Nwvb8VrkfhehS+v1K4HoXrUcC/v1jyiyW/wL89CtejcD3Cv4slv1jyi8W/cD0K16Nwxb+LJb9Y8ovFv1yPwvUoXMe/NdBpA502yL9Apw102kDHvxSuR+F6FMa/BJ020GkDxb+rqqqqqqrCv8kvlvxiyb+/q6qqqqqqur97FK5H4Xq0v+UXS36x5Ke/TRvotIFOi7/lF0t+seSXP6RwPQrXo7A/NDMzMzMzsz+dNtBpA522PzCW/GLJL7Y/MJb8Yskvtj9VVVVVVVW1P0RERERERLQ//GLJL5b8sj+TXyz5xZKvP8P1KFyPwqU/5BdLfrHklz+h0wY6baCTP79Y8oslv5g/6LSBThvopD+ZmZmZmZmpP0t+seQXS64/20CnDXTasD+kcD0K16OwPxEREREREbE/20CnDXTasD8zMzMzMzOzPzCW/GLJL7Y/rUfhehSutz9toNMGOm2wP5020GkDnaY/wFjyiyW/mD/jF0t+seR3v36x5BdLfqG/vLu7u7u7q7+1gU4b6LSxv1VVVVVVVbW/5RdLfrHkt7/hehSuR+G6v79Y8oslv7i/Fa5H4XoUvr8L16NwPQq3v+UXS36x5Le/lfxiyS+WvL/d3d3d3d29v2As+cWSX7y/TxvotIFOu7+rqqqqqqq6v2PJL5b8Yrm/CDptoNMGur9PG+i0gU67v6RwPQrXo8C/frHkF0t+wb9gLPnFkl/Ev93d3d3d3cW/seQXS36xxL87baDTBjrFv0t+seQXS8a/Jb9Y8oslx7+vR+F6FK7Hv2PJL5b8Ysm/GEt+seQXy7/Xo3A9CtfLv/1iyS+W/Mq/tIFOG+i0yb8RERERERHJv3d3d3d3d8e/FK5H4XoUxr8zMzMzMzPDvyW/WPKLJb+/iIiIiIiIuL9ERERERES0v+N6FK5H4aq/dNpApw10mr8RERERERGBvzfQaQOdNpA/UbgehetRqD/otIFOG+i0P/OLJb9Y8rs/AAAAAAAAwD9jyS+W/GLBP0jhehSuR8E/N9BpA502wD830GkDnTbAP7gehetRuL4/qA102kCnvT9LfrHkF0u+P3E9CtejcL0/vLu7u7u7uz8c6LSBThu4P+m0gU4b6LQ/nTbQaQOdtj/UBjptoNO2P1VVVVVVVbU/w/UoXI/CtT/5xZJfLPm1P/jFkl8s+bU/rUfhehSutz9lZmZmZma2P8WSXyz5xbI/cD0K16NwrT9TuB6F61GoP93d3d3d3a0/wFjyiyW/mD/lF0t+seR3P0sb6LSBTmu/SxvotIFOa79QG+i0gU57v0sb6LSBTnu/exSuR+F6hL97FK5H4Xp0v3gUrkfhemS/exSuR+F6lD+5HoXrUbieP93d3d3d3Z0/uB6F61G4rj9ERERERES0P2PJL5b8Yrk/4XoUrkfhuj8YS36x5Be7P6uqqqqqqro/LfnFkl8suT94d3d3d3e3P8BY8oslv7g/awOdNtBpsz+h0wY6baCzP2sDnTbQabM/kML1KFyPsj9/seQXS36xP7kehetRuK4/4XoUrkfhqj8EnTbQaQOtP0t+seQXS64/pHA9CtejsD80MzMzMzOzP3sUrkfherQ/1AY6baDTtj/ptIFOG+i0P9QGOm2g07Y/16NwPQrXsz8jIiIiIiKyPxEREREREbE/20CnDXTasD/sUbgeheuxPw102kCnDbQ/MJb8Yskvtj/1KFyPwvW4P4XrUbgehbs/TxvotIFOuz+F61G4HoW7P6HTBjptoLM/ERERERERsT902kCnDXSqP8P1KFyPwqU/k18s+cWSnz97FK5H4XqEP+tRuB6F65G/wFjyiyW/qL+dNtBpA522v+/u7u7u7r6/MzMzMzMzw797FK5H4XrEv3E9CtejcMW/BJ020GkDxb8fhetRuB7Fv+i0gU4b6MS/YCz5xZJfxL8NdNpApw3Ev8aSXyz5xcK/ERERERERwb/ziyW/WPK7v5mZmZmZmbm/DnTaQKcNtL+g0wY6baCzvzfQaQOdNrC/KFyPwvUorL/kF0t+seSnvzCW/GLJL6a/61G4HoXrob8L16NwPQqXvxEREREREZG/MJb8Yskvhr/rUbgeheuRvwOdNtBpA42/wFjyiyW/mL/f3d3d3d2dv3sUrkfheqS/exSuR+F6pL+kcD0K16Ogv8eSXyz5xZK/dNpApw10mr8RERERERGhv1nyiyW/WKK/exSuR+F6pL/AWPKLJb+YvwvXo3A9Cpe/uB6F61G4jr8wlvxiyS+Wv8aSXyz5xZK/5xdLfrHkd7/lF0t+seSHv9/d3d3d3Z2/BZ020GkDnb8EnTbQaQOdv+Dd3d3d3Z2/KVyPwvUonL/sUbgeheuhvzfQaQOdNqC/pHA9CtejoL8rXI/C9Sicv3XaQKcNdJq/BZ020GkDnb9TG+i0gU57vwSdNtBpA40/C9ejcD0Klz830GkDnTagP+m0gU4b6KQ/wFjyiyW/qD8IOm2g0waqP9tApw102rA/QacNdNpAtz+X/GLJL5a8P+xRuB6F68E/9ihcj8L1wD9SuB6F61HAP93d3d3d3b0/zczMzMzMvD902kCnDXS6PxzotIFOG7g/nTbQaQOdtj9FRERERES0P6RwPQrXo7A/WfKLJb9Yoj+ZmZmZmZmZP5uZmZmZmYm/TxvotIFOm7/AWPKLJb+ov0t+seQXS66/j8L1KFyPsr+g0wY6baCzv7LkF0t+sbS/+cWSXyz5tb/VBjptoNO2v5020GkDnba/6bSBThvotL/RaQOdNtC5v4iIiIiIiLi/jSW/WPKLtb/rUbgeheuxv5NfLPnFkq+/nDbQaQOdpr8RERERERGhv3kUrkfhepS/A5020GkDjb8AAAAAAAAAABEREREREXE/TxvotIFOmz9+seQXS36xP83MzMzMzLw/61G4HoXrwT8pXI/C9SjEP0t+seQXS8Y/k18s+cWSxz8c6LSBThvIPwAAAAAAAMg/U7gehetRyD/JL5b8YsnHPyW/WPKLJcc/seQXS36xxD+TXyz5xZK/P1nyiyW/WLI/ehSuR+F6pD830GkDnTaQPw8REREREXG/vVjyiyW/mL820GkDnTagvzMzMzMzM6O/eHd3d3d3p7+X/GLJL5asvzfQaQOdNrC/xpJfLPnFsr/kF0t+seSnv+UXS36x5Je/exSuR+F6hL9VVVVVVVUlvBEREREREYE/BJ020GkDjT+ZmZmZmZmJP+QXS36x5Hc/MJb8Yskvhj9NG+i0gU57PwAAAAAAAAAAVRvotIFOSz8wlvxiyS+Gv+UXS36x5Je/4XoUrkfhqr8nv1jyiyWvv9ejcD0K17O/MJb8Yskvtr8b6LSBThu4v4iIiIiIiLi/0GkDnTbQub8YS36x5Be7v8BY8oslv7i/6LSBThvotL8zMzMzMzOzv3h3d3d3d6e/AAAAAAAAAACbmZmZmZmZPylcj8L1KKw/6bSBThvotD902kCnDXS6P1yPwvUoXL8/IiIiIiIiwj9VVVVVVVXFP4iIiIiIiMg/wFjyiyW/yD/QaQOdNtDJP6RwPQrXo8g/r0fhehSuxz8VrkfhehTGP0VERERERMQ/PQrXo3A9wj8t+cWSXyzBP1yPwvUoXL8/BJ020GkDvT/ziyW/WPK7PxhLfrHkF7s/84slv1jyuz/ziyW/WPK7P08b6LSBTrs/vLu7u7u7uz9PG+i0gU67PzttoNMGOr0/UrgehetRwD9jyS+W/GLBP7u7u7u7u8M/qA102kCnxT8b6LSBThvIP9tApw102sg/lfxiyS+WzD8wlvxiyS/OP3sUrkfhetA/exSuR+F60D+MJb9Y8ovRP2ZmZmZmZtI/j8L1KFyP0j/Fkl8s+cXSP5020GkDndI/WfKLJb9Y0j/D9Shcj8LRP/nFkl8s+dE/v1jyiyW/0D+MJb9Y8ovRP5mZmZmZmdE/gU4b6LSB0j+4HoXrUbjSP3TaQKcNdNI/q6qqqqqq0j+4HoXrUbjSP/xiyS+W/NI/4XoUrkfh0j/TBjptoNPSPzCW/GLJL9I//GLJL5b80j85baDTBjrRPylcj8L1KNA/zczMzMzMzD80MzMzMzPLP3TaQKcNdMo/wFjyiyW/yD/lF0t+seTHP9QGOm2g08Y/XY/C9Shcxz94d3d3d3fHP9QGOm2g08Y/8O7u7u7uxj/9YskvlvzKP2dmZmZmZs4/ERERERER0T+MJb9Y8ovRPxWuR+F6FNI/1AY6baDT0j93d3d3d3fTP22g0wY6bdQ/6LSBThvo1D8RERERERHVP5DC9Shcj9Y/tYFOG+i01T97FK5H4XrUP9QGOm2g09I/+cWSXyz50T87baDTBjrRPy35xZJfLNE/exSuR+F60D94d3d3d3fPP8P1KFyPws0/2KNwPQrXyz/Hkl8s+cXKP5020GkDncY/q6qqqqqqwj+amZmZmZnBPwAAAAAAAMA/S36x5BdLvj9LfrHkF0u+P2As+cWSX7w/KFyPwvUovD8YS36x5Be7P3TaQKcNdLo/m5mZmZmZuT8HOm2g0wa6P4XrUbgehbs/9Shcj8L1wD902kCnDXTCPzttoNMGOsU/S36x5BdLxj94d3d3d3fHPxzotIFOG8g/f7HkF0t+yT+QwvUoXI/KP/1iyS+W/Mo/vLu7u7u7yz97FK5H4XrMP+i0gU4b6Mw/H4XrUbgezT8DnTbQaQPNP1yPwvUoXM8/7+7u7u7uzj9dj8L1KFzPPxvotIFOG9A/YCz5xZJf0D+1gU4b6LTRP9MGOm2g09I/N9BpA5021D/otIFOG+jUP93d3d3d3dU/hetRuB6F1z+/WPKLJb/YPylcj8L1KNg/Y8kvlvxi2T8jIiIiIiLaP2dmZmZmZto/1AY6baDT2j9nZmZmZmbaPxWuR+F6FNo/f7HkF0t+2T9VVVVVVVXZP83MzMzMzNg/5BdLfrHk1z8jIiIiIiLWP6gNdNpAp9U/20CnDXTa1D8OdNpApw3UP3h3d3d3d9M/4XoUrkfh0j+rqqqqqqrSP5DC9Shcj9I/dNpApw100j902kCnDXTSP5DC9Shcj9I/x5JfLPnF0j+TXyz5xZLTPxvotIFOG9Q/PQrXo3A91j9NG+i0gU7XPxvotIFOG9g/zczMzMzM2D8DnTbQaQPZPzttoNMGOtk/SOF6FK5H2T/rUbgehevZPxhLfrHkF9s/TxvotIFO2z/LL5b8YsnbPxvotIFOG9w/MJb8Yskv2j9LfrHkF0vaPz0K16NwPdo/q6qqqqqq2j8zMzMzMzPbP2sDnTbQads/yS+W/GLJ2z9PG+i0gU7bP4NOG+i0gdo/w/UoXI/C2T/d3d3d3d3ZP9BpA5020Nk/IyIiIiIi2j/1KFyPwvXYP4mIiIiIiNg/eHd3d3d31z/RaQOdNtDVP4mIiIiIiNQ/1AY6baDT0j+oDXTaQKfRP22g0wY6bdA/UrgehetR0D+vR+F6FK7PPwvXo3A9Cs8/7+7u7u7uzj8lv1jyiyXPP0GnDXTaQM8/XI/C9Shczz830GkDnTbQP5b8YskvltA/LPnFkl8s0T/e3d3d3d3RP97d3d3d3dE/+cWSXyz50T9/seQXS37RP69H4XoUrs8/C9ejcD0Kzz+TXyz5xZLPPwAAAAAAANA/exSuR+F60D/otIFOG+jQP3E9CtejcNE/S36x5BdL0j9PG+i0gU7TPzttoNMGOtU/w/UoXI/C1T8lv1jyiyXXP2dmZmZmZto/7+7u7u7u2j8zMzMzMzPbPwvXo3A9Cts/d3d3d3d32z8NdNpApw3cPxAREREREd0/VVVVVVVV3T9jyS+W/GLdP2PJL5b8Yt0/H4XrUbge3T+TXyz5xZLbP0t+seQXS9o/jCW/WPKL2T/NzMzMzMzYPwSdNtBpA9k/baDTBjpt2D/lF0t+seTXP/Du7u7u7tY/WfKLJb9Y1j87baDTBjrVP1O4HoXrUdQ/iYiIiIiI1D8fhetRuB7VPwSdNtBpA9U/w/UoXI/C1T+4HoXrUbjWP+N6FK5H4dY/2KNwPQrX1z/NzMzMzMzYP/nFkl8s+dk/16NwPQrX2z8HOm2g0wbeP6DTBjptoN8/dNpApw104D8RERERERHhPzfQaQOdNuI/seQXS36x4j9xPQrXo3DjPxSuR+F6FOQ/baDTBjpt5D8L16NwPQrlP2sDnTbQaeU/LfnFkl8s5T/Gkl8s+cXkP1G4HoXrUeQ/L5b8Yskv5D/rUbgehevjP2kDnTbQaeM/seQXS36x4j/5xZJfLPnhP08b6LSBTuE/q6qqqqqq4D+TXyz5xZLfP+tRuB6F690/O22g0wY63T+kcD0K16PcP22g0wY6bdw/baDTBjpt3D+TXyz5xZLbP+F6FK5H4do/5BdLfrHk2z/NzMzMzMzcPxEREREREd0/BJ020GkD3T8EnTbQaQPdP3+x5BdLft0/qA102kCn3T87baDTBjrdP6RwPQrXo9w/QacNdNpA2z/ziyW/WPLbPzMzMzMzM9s/k18s+cWS2z9Apw102kDbPwAAAAAAANw/sOQXS36x3D+LJb9Y8ovdP0t+seQXS94/q6qqqqqq3j+7u7u7u7vfPwOdNtBpA+E/hetRuB6F4T8hIiIiIiLiPyz5xZJfLOM/mZmZmZmZ4z+ZmZmZmZnjP3+x5BdLfuM/oNMGOm2g4z/JL5b8YsnjP6DTBjptoOM/0GkDnTbQ4z/C9Shcj8LjP36x5BdLfuM/ThvotIFO4z9H4XoUrkfjP6uqqqqqquI/FK5H4XoU4j8NdNpApw3iPylcj8L1KOI/BzptoNMG4j/QaQOdNtDhPwc6baDTBuI/N9BpA5024j/hehSuR+HiP9tApw102uI/pw102kCn4z9pA5020GnjP9ejcD0K1+M/L5b8Yskv5D9ERERERETkP93d3d3d3eM/rkfhehSu4z+F61G4HoXjPzltoNMGOuM/7+7u7u7u4j+jcD0K16PiPx+F61G4HuM/gU4b6LSB4j+PwvUoXI/iPwAAAAAAAOI/+cWSXyz54T9Y8oslv1jiP+i0gU4b6OI/cT0K16Nw4z/sUbgehevjPzfQaQOdNuQ/pHA9Ctej5D/UBjptoNPkP7gehetRuOQ/A5020GkD5T+dNtBpA53kP+i0gU4b6OQ/q6qqqqqq5D8b6LSBThvkP9BpA5020OM/tYFOG+i04z+ZmZmZmZnjP5mZmZmZmeM/cT0K16Nw4z9qA5020GnjPzMzMzMzM+M/k18s+cWS4z+rqqqqqqrkP8aSXyz5xeQ/9ihcj8L15D+F61G4HoXlP69H4XoUruU/cD0K16Nw5T80MzMzMzPlPwSdNtBpA+U/4XoUrkfh5D+QwvUoXI/kPz0K16NwPeQ/hetRuB6F4z/lF0t+seThPyW/WPKLJeE/aQOdNtBp4T+/WPKLJb/gP3TaQKcNdOA/baDTBjpt4D+JiIiIiIjgP4/C9Shcj+A/baDTBjpt4D+4HoXrUbjgPx+F61G4HuE/TxvotIFO4T8wlvxiyS/iP7HkF0t+seI/MJb8Yskv4j+kcD0K16PiP+F6FK5H4eI/R+F6FK5H4z9/seQXS37jP93d3d3d3eM/WfKLJb9Y5D9LfrHkF0vkP0t+seQXS+Q/dNpApw105D+4HoXrUbjkPxhLfrHkF+U/0GkDnTbQ5T9LfrHkF0vmP8BY8oslv+Y/4XoUrkfh5j8YS36x5BfnP/xiyS+W/OY/nTbQaQOd5j+PwvUoXI/mP9QGOm2g0+Y/exSuR+F65j/d3d3d3d3lP08b6LSBTuU/nTbQaQOd5D8pXI/C9SjkP61H4XoUruM/d3d3d3d34z8zMzMzMzPjPxdLfrHkF+M/LPnFkl8s4z8zMzMzMzPjP3TaQKcNdOI/nTbQaQOd4j97FK5H4XriP0t+seQXS+I/IyIiIiIi4j9SuB6F61HiP7HkF0t+seI/2kCnDXTa4j8DnTbQaQPjPyW/WPKLJeM/frHkF0t+4z+nDXTaQKfjPz0K16NwPeQ/AAAAAAAA5D902kCnDXTkPwOdNtBpA+U/QacNdNpA5T/NzMzMzMzkP83MzMzMzOQ/uR6F61G45D+rqqqqqqrkP6RwPQrXo+Q/iIiIiIiI5D97FK5H4XrkP83MzMzMzOQ/cD0K16Nw5T+7u7u7u7vlP08b6LSBTuU/tYFOG+i05T9Y8oslv1jmP5DC9Shcj+Y/zczMzMzM5j/hehSuR+HmP0CnDXTaQOc/hetRuB6F5z/QaQOdNtDnP3A9CtejcOc/0GkDnTbQ5z8jIiIiIiLoPzttoNMGOuk/m5mZmZmZ6T+MJb9Y8ovpP7WBThvotOk/BzptoNMG6j9Y8oslv1jqP5X8Yskvluo/9Shcj8L16j+F61G4HoXrP0REREREROw/C9ejcD0K7T+vR+F6FK7tP4iIiIiIiO4/awOdNtBp7z8b6LSBThvwPyW/WPKLJfA/LPnFkl8s8D9Bpw102kDwP0RERERERPA/MzMzMzMz8D+0gU4b6LTvPx+F61G4Hu8/RERERERE7j/lF0t+seTtP0GnDXTaQO0/uB6F61G47D830GkDnTbsPwg6baDTBuw/tYFOG+i06z+bmZmZmZnrP2PJL5b8Yus/H4XrUbge6z8YS36x5BfrPyW/WPKLJes/LPnFkl8s6z/38nkvn/fqP5DC9Shcj+o/0GkDnTbQ6T97FK5H4XrpP/EVX/EVX+k/\",\"dtype\":\"float64\",\"shape\":[1656]}}},\"id\":\"f8bf5260-1ec8-4b20-9e1c-49d6748784ad\",\"type\":\"ColumnDataSource\"},{\"attributes\":{\"callback\":null,\"column_names\":[\"x\",\"y\"],\"data\":{\"x\":{\"__ndarray__\":\"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\",\"dtype\":\"float64\",\"shape\":[1656]},\"y\":{\"__ndarray__\":\"tch2vp8av7/fM785CDPAv3+A7QfYfsC/8giP8AiPwL9SuB6F69HAv4R4u+reIcG/fbHkF0t+wb/cQ0zHuLXBv+tRuB6F68G/uiLOjwMIwr/pXf1amwfCv2juJZeYAsK/BluwBVuwwb+2TRZBMKjBv+tRuB6F68G/lBgEVg4twr8+CtejcD3Cv5IkSZIkScK/P8Hg2Fp6wr9H74aJ/YTCv6RwPQrXo8K/nSsPSNa5wr/bkrQtSdvCv0BVt7YV8MK/i6/4iq/4wr9a84wmwFnDv5Hl1Ha/tMO/3t9ursq6w7/M57183svDvz+PEzZK68O/nH34DLsCxL/udfggqSvEv+C33XKCZcS/bZTMRslsxL9hmcBUvZ3Evwl9yGRfncS/q6qqqqqqxL9C2SYQ3/fEv0Sy0zPIMsW/YDX0VUNfxb9Pr5RliGPFvxPo27M6YcW/SRXirntIxb/S2in1wjnFv7ETO7ETO8W/5swLx0cgxb/hDl/kKurEv77A1tRwx8S/bZUS5QyKxL8X4dSu33fEv6xah3dCRcS/Mj/lrRXzw79u27Zt27bDv7WUn+fkksO/E2vsHO99w79D4gmj+4LDv1TEhGh4f8O/VDmVUzmVw78sVMkoR6LDv6CKKzokxcO/Za2OCR7Mw7/+1HjpJjHEv+0KkHvNhcS/hl0Bcq+5xL9aq2OCB/PEv+RecyFpSsW/N0IZvS1rxb+NJb9Y8ovFv9BpA5020MW/sStA7jUXxr8ED+aJ+jfGv0t+seQXS8a/EVg5tMh2xr8NAiuHFtnGv5WKsw+fYce/PVH/Riijx7/GBA/mifrHv43elrU6Jsi/REREREREyL9CGb0ta3XIv6RwPQrXo8i/a3VM8GCeyL966SYxCKzIvz7DrgC518i/okW28/3UyL+Qe82FpCnJv1VVVVVVVcm/7nw/NV66yb/sUbgehevJv3cwT9S/Ecq/BQ/mifo3yr+CThvotIHKvw0CK4cW2cq/fM2FpCkVy7/tw2fYFSDLv7FyaJHtfMu/AiuHFtnOy79vy1odEzzMv14Bcq+5kMy/QO41F5KmzL8GyL3mQtLMvwOdNtBpA82/D+aJ+jdCzb8rzj58hl3NvwyQe82FpM2/JngwT9S/zb/88Bl2BcjNv8P1KFyPws2/ic+wK0Duzb8wlvxiyS/Ov3YFyL3mQs6/2ofPsCtAzr+R7Xw/NV7Ov1bHBA/mic6/gCOU0duyzr8OLbKd76fOv3KvuZA0pc6/q6qqqqqqzr9/I5TR27LOvxyhjN6Wtc6//o1QRm/Lzr/+jVBGb8vOv+/u7u7u7s6/plScffgMz78n6t8IZfTOv6l/I5TR286/0wY6baDTzr8qFWcfPsPOv1WcffgMu86/cq+5kDSlzr/VMcGDeaLOvw8tsp3vp86/xpJfLPnFzr+Nl24Sg8DOvx7ME/VvhM6/n2FXgNxrzr/k0CLb+X7OvwLkXnMhac6/BA/mifo3zr8UrkfhehTOv7NWxwQP5s2/JngwT9S/zb8bL90kBoHNv6k4+/AZds2/ne+nxks3zb8tJE2pOPvMv3fpJjEIrMy/FGcfPsOuzL/elrU6JnjMv2/LWh0TPMy/f2q8dJMYzL/Wo3A9CtfLv5JfLPnFksu/zYWkKRVny79Bpw102kDLv1yPwvUoXMu/d3d3d3d3y78ZS36x5BfLv29Zq2OCB8u/awOdNtBpy7/MWh0TPJjLv/S2rNUxwcu/SZpScfbhy7+cffgMuwLMv0Zvy1odE8y/N9BpA502zL/7fmq8dJPMvzFP1L8Rysy/P8OuALnXzL8/w64AudfMv/X91HjpJs2/jSW/WPKLzb817AqQe83Nv1DUvxHK6M2/BzptoNMGzr+VQ4ts5/vNv7NWxwQP5s2/tYFOG+i0zb9TKs4+fIbNvxEREREREc2/2RUg95oLzb9NN4lBYOXMv4mIiIiIiMy/b8taHRM8zL8PdNpApw3Mv65H4XoUrsu/awOdNtBpy7+WtTomeDDLv7bz/dR46cq/AbnXXEiayr+hjN6WtTrKv88+fIZdAcq/Uf9GKKO3yb9xPQrXo3DJv/UoXI/C9ci/91PjpZvEyL9eAXKvuZDIvyQGgZVDi8i/3pa1OiZ4yL+ZJ+rfCGXIv34/NV66Sci/JzEIrBxayL/ErgC511zIv+Psw2fYFci/Gr0ta3VMyL+N3pa1OibIvw502kCnDci/84slv1jyx7+ClUOLbOfHv60cWmQ738e/upA0peLsx7+sHFpkO9/Hv2StjgkezMe/nqh/I5TRx79zIWlKxdnHv4PAyqFFtse/Z9gVIPeax79RRm/LWh3Hv/NE/RuhjMa/nTbQaQOdxr86tMh2vp/Gv+Slm8QgsMa/0wY6baDTxr9g5dAi2/nGv7TIdr6fGse/pCkVZx8+x7+wcmiR7XzHv727u7u7u8e/5RdLfrHkx7+effgMuwLIv+LBPFH/Rsi/bXVM8GCeyL/OzMzMzMzIv1urY4IH88i/2hUg95oLyb9zaJHtfD/JvzpCGb0ta8m/C5B7zYWkyb9CYOXQItvJv+18PzVeusm/7Xw/NV66yb8LkHvNhaTJv97d3d3d3cm/MsGDeaL+yb9LfrHkF0vKv8vobVmrY8q/WfKLJb9Yyr9a8oslv1jKv1nyiyW/WMq/dNpApw10yr86tMh2vp/Kv4/C9Shcj8q/OrTIdr6fyr9/I5TR27LKv+F6FK5H4cq/0wY6baDTyr+dNtBpA53Kv42XbhKDwMq/DAIrhxbZyr9C0pSKsw/Lv0CnDXTaQMu/hOtRuB6Fy7+eqH8jlNHLv3H24TPsCsy/4ME8Uf9GzL9CGb0ta3XMv5PR27JWx8y/r7mQNKXizL8P5on6N0LNv4r6N0IZvc2/o7dlrY4Jzr8ua3VM8GDOvw4tsp3vp86/muDBPFH/zr8mv1jyiyXPv2sDnTbQac+/6W1Zq2OCz790IWlKxdnPv48JHswT9c+/5RdLfrHkz79rvHSTGATQv6rx0k1iENC/xdmHz7Ar0L/ah8+wK0DQv/yp8dJNYtC/SlMqzj580L+W/GLJL5bQvxyhjN6WtdC/57SBThvo0L/z/dR46SbRv6QpFWcfPtG//0Yoo7dl0b9hnqh/I5TRvyV4ME/Uv9G/rBxaZDvf0b/UeOkmMQjSv/eaC0lTKtK/7zUXkqZU0r+7SQwCK4fSv42XbhKDwNK/r7mQNKXi0r8gsHJoke3Sv99PjZduEtO/R+F6FK5H079qA5020GnTv1pkO99PjdO/ID7DrgC5078Pn2FXgNzTvwAAAAAAANS/vp8aL90k1L+XJ+rfCGXUv5X8YskvltS/GnYFyL3m1L+CB/NE/RvVv8ARyuhtWdW/PFH/Riij1b96W9bqmODVv3cwT9S/Eda/b8taHRM81r9mZmZmZmbWvytA7jUXkta/q6qqqqqq1r9/I5TR27LWvyoVZx8+w9a/KRVnHz7D1r+pfyOU0dvWv0s3iUFg5da/J+rfCGX01r9ScfbhM+zWv+m0gU4b6Na/RP0boYze1r/iehSuR+HWvy8kTak4+9a/H4XrUbge179zaJHtfD/XvxUg95oLSde/eqL+jVBG17/AEcrobVnXv+ptWatjgte/Yp6ofyOU179inqh/I5TXv2KeqH8jlNe/L90kBoGV17/NWh0TPJjXv/Cnxks3ide/hetRuB6F17/c+X5qvHTXv+uY4ME8Ude/7cNn2BUg179iEFg5tMjWvzN6W9bqmNa/NaXi7MNn1r+vALnXXEjWv/Fgnqh/I9a/zz58hl0B1r+tHFpkO9/Vv7y7u7u7u9W/YZ6ofyOU1b+cxCCwcmjVv5SKsw+fYdW/TxvotIFO1b+WtTomeDDVv0T9G6GM3tS/tx6F61G41L/elrU6JnjUvyYxCKwcWtS/dgXIveZC1L+TGARWDi3Uv4BqvHSTGNS/pLdlrY4J1L/6xZJfLPnTv4nPsCtA7tO/FtnO91Pj078W2c73U+PTv3MhaUrF2dO/h8+wK0Du07/OPnyGXQHUv84+fIZdAdS/t2Wtjgke1L/wYJ6ofyPUvylcj8L1KNS/IiIiIiIi1L+GpCkVZx/UvyIiIiIiItS/JjEIrBxa1L+ZJ+rfCGXUvzzfT42XbtS/gk4b6LSB1L9KUyrOPnzUv63VMcGDedS/ddpApw101L/1b4QyelvUvxODwMqhRdS/hqQpFWcf1L9OqTj78BnUv7NWxwQP5tO/+sWSXyz507/lF0t+seTTv9ejcD0K19O/NReSplSc07/qbVmrY4LTv3E9CtejcNO/HVpkO99P07/QsCtA7jXTvwvXo3A9CtO/GnYFyL3m0r966SYxCKzSv96WtTomeNK/PN9PjZdu0r/ah8+wK0DSv9V46SYxCNK/3t3d3d3d0b/SlIqzD5/RvxT1b4QyetG/xks3iUFg0b8P5on6N0LRvzMzMzMzM9G/5on6N0IZ0b+Z4ME8Uf/Qv9HbslbHBNG/J+rfCGX00L8MAiuHFtnQv8aSXyz5xdC/+n5qvHST0L+CThvotIHQvwoezBP1b9C/Lmt1TPBg0L/uNReSplTQvxODwMqhRdC/MJb8Yskv0L9Gb8taHRPQv+QXS36x5M+/5kLSlIqzz79rLiRNqTjPv5wLSVMqzs6/n2FXgNxrzr+xK0DuNRfOv19zIWlKxc2/RLbz/dR4zb/lifo3QhnNvwTIveZC0sy/wIN5ov6NzL+nxks3iUHMv2FXgNxrLsy/nH34DLsCzL+q8dJNYhDMv6fGSzeJQcy/nH34DLsCzL+6kDSl4uzLv48JHswT9cu/xwQP5on6y7+6kDSl4uzLv7y7u7u7u8u/d3d3d3d3y79eukkMAivLv+/u7u7u7sq/tx6F61G4yr8rQO41F5LKv4/C9Shcj8q/AuRecyFpyr/L6G1Zq2PKv6GM3pa1Osq/BzptoNMGyr8kTak4+/DJv7RWxwQP5sm//PAZdgXIyb83F5KmVJzJv9W/Ecrobcm/ZMkvlvxiyb/D9Shcj8LJv23n+6nx0sm/X3MhaUrFyb9gcyFpSsXJv9FpA5020Mm/puLsw2fYyb+m4uzDZ9jJv15ImlJx9sm/Fa5H4XoUyr+vALnXXEjKvxFYObTIdsq/YhBYObTIyr9g5dAi2/nKv0GnDXTaQMu/TxvotIFOy7+wcmiR7XzLvz1R/0Yoo8u/yS+W/GLJy78rhxbZzvfLv9V46SYxCMy/N/vwGXYFzL8rhxbZzvfLv0eaUnH24cu/rkfhehSuy79OG+i0gU7Lv25Zq2OCB8u/ObTIdr6fyr/zRP0boYzKv9ZcSJpSccq/Wh0TPJgnyr9pvHSTGATKv89pA5020Mm/C5B7zYWkyb8NuwLkXnPJv4IH80T9G8m/6t8IZfS2yL9toNMGOm3Iv7dlrY4JHsi/VQ4tsp3vx787JngwT9THv5JfLPnFkse/BYGVQ4tsx78jlNHbslbHv3mi/o1QRse/CawcWmQ7x79ScfbhM+zGvzeJQWDl0Ma/LEDuNReSxr8C5F5zIWnGv9qHz7ArQMa/WvKLJb9Yxr9LfrHkF0vGvzCW/GLJL8a/S36x5BdLxr92Bci95kLGv0t+seQXS8a/vXSTGARWxr/1b4QyelvGv4R5ov6NUMa/XB0TPJgnxr+gYVeA3GvGv4ts5/up8ca/YOXQItv5xr/PsCtA7jXHv+qY4ME8Uce/XI/C9Shcx78FgZVDi2zHvwaBlUOLbMe/2/l+arx0x7/AEcrobVnHv1BGb8taHce/I5TR27JWx7/14TPsCpDHv77mQtKUise/ImlKxdmHx7/pbVmrY4LHvyJpSsXZh8e/lYqzD59hx7/6N0IZvS3Hv9HbslbHBMe/i2zn+6nxxr8coYzelrXGv68AuddcSMa/3t3d3d3dxb9CYOXQItvFvyRNqTj78MW/Uf9GKKO3xb/gCGX0tqzFvwuQe82FpMW/4jPsCpB7xb/GSzeJQWDFv8p2vp8aL8W/Ppgn6t8Ixb/2KFyPwvXEv7G5kDSl4sS/6bSBThvoxL+aJ+rfCGXEv6nGSzeJQcS/xK4AuddcxL/hwTxR/0bEv2JXgNxrLsS/D3TaQKcNxL/lF0t+seTDv2atjgkezMO/adgVIPeaw79AfIZdAXLDv9z5fmq8dMO/TfBgnqh/w7/NWh0TPJjDvyJpSsXZh8O/TfBgnqh/w79dj8L1KFzDv4kW2c73U8O/iRbZzvdTw78JrBxaZDvDv+7DZ9gVIMO/tch2vp8aw78mv1jyiyXDv9z5fmq8dMO/gpVDi2znw78thxbZzvfDv2atjgkezMO/84slv1jyw79XDi2yne/Dv5E0peLsw8O/ImlKxdmHw7/OhaQpFWfDv8I8Uf9GKMO//WLJL5b8wr8rFWcfPsPCvzzfT42XbsK/BjptoNMGwr/PPnyGXQHCv/Cnxks3icG/UyrOPnyGwb9vEoPAyqHBv9OUirMPn8G/xCCwcmiRwb9GtvP91HjBv3E9CtejcMG/1b8Ryuhtwb8dWmQ730/Bv0SLbOf7qcG/McGDeaL+wb9z2kCnDXTCv+F6FK5H4cK/lrU6Jngww79Bpw102kDDv6QpFWcfPsO/CawcWmQ7w798zYWkKRXDv6ZUnH34DMO//GLJL5b8wr9TcfbhM+zCv0T9G6GM3sK/Riijt2Wtwr/jpZvEILDCv3PaQKcNdMK/Lmt1TPBgwr+vALnXXEjCv3cwT9S/EcK/QmDl0CLbwb/C9Shcj8LBv/Cnxks3icG/x0s3iUFgwb9J4XoUrkfBv9fqmODBPMG/BJ020GkDwb/LoUW28/3Av+m0gU4b6MC/lvxiyS+WwL/hwTxR/0bAv7dlrY4JHsC/cyFpSsXZv7/LWh0TPJi/v8+wK0DuNb+/8Rl2Bci9vr+8dJMYBFa+vy+W/GLJL76/Lmt1TPBgvr9R/0Yoo7e9vwTIveZC0ry/eekmMQisvL/uNReSplS8v56ofyOU0bu/3iQGgZVDu7+rqqqqqqq6v+omMQisHLq/Q4ts5/upub9+seQXS365v2T0tqzVMbm/QKcNdNpAt7/TBjptoNO2v0t+seQXS7a/a7x0kxgEtr9VVVVVVVW1v83MzMzMzLS/7jUXkqZUtL+BlUOLbOezv/bhM+wKkLO/blmrY4IHs79whDJ6W9ayv4ts5/up8bK/y+htWatjsr+zVscED+axv/UoXI/C9bC/v1jyiyW/sL+rHFpkO9+vv2mR7Xw/Na6/4jPsCpB7rb+V/GLJL5asv56ofyOU0au/ov6NUEZvq79cHRM8mCeqv8BY8oslv6i/BoGVQ4tsp79F/RuhjN6mvzPsCpB7zaW/tTomeDBPpL+GFtnO91Ojv+xRuB6F66G//Knx0k1ioL8lv1jyiyWfv6tjggfzRJ2/vLu7u7u7m798hl0Bcq+Zv5020GkDnZa/g8DKoUW2k7+611xImlKRv3TaQKcNdIq/yqFFtvP9hL+NUEZvy1p9vyR4ME/Uv3G/jHvNhaQpZb9VG+i0gU47P7lJDAIrh2Y/WmQ730+Ndz+0OiZ4ME+EPz/DrgC514w/y6FFtvP9lD9tLiRNqTibP8HKoUW2850/Yp6ofyOUoT8RyuhtWaujP1qrY4IH86Q/9G+EMnpbpj+p8dJNYhCoP9S/Ecrobak/9uEz7AqQqz/Jdr6fGi+tPxoEVg4tsq0/95oLSVMqrj85+/AZdgWwP1yPwvUoXK8/NtBpA502sD+511xImlKxP+omMQisHLI/xpJfLPnFsj/6DLsC5F6zP+81F5KmVLQ/ro4JHswTtT9vEoPAyqG1P2Q730+Nl7Y/DQIrhxbZtj9zIWlKxdm3P05iEFg5tLg/vALkXnMhuT96W9bqmOC5PwY6baDTBro/zz58hl0Buj8kTak4+/C5P3tb1uqY4Lk/s1bHBA/muT/sUbgeheu5P7NWxwQP5rk/K84+fIZduT+611xImlK5P9oVIPeaC7k/ZMkvlvxiuT9Ei2zn+6m5PwuQe82FpLk/C5B7zYWkuT+amZmZmZm5P9fqmODBPLk/3WsuJE2puD9RjZduEoO4P26g0wY6bbg/Gr0ta3VMuD/flrU6Jni4P8SuALnXXLg/cyFpSsXZtz/MWh0TPJi3P1YOLbKd77c/4+zDZ9gVuD9x9uEz7Aq4PwAAAAAAALg/rkfhehSutz9cj8L1KFy3P5a1OiZ4MLc/d3d3d3d3tz9x9uEz7Aq4P1UOLbKd77c/xdmHz7AruD+lm8QgsHK4P1CNl24Sg7g/NtBpA502uD85+/AZdgW4PzsmeDBP1Lc/dUzwYJ6otz89Uf9GKKO3P86FpCkVZ7c/haQpFWcftj/88Bl2Bci1P497zYWkKbU/zczMzMzMtD/wYJ6ofyO0P0maUnH24bM/hOtRuB6Fsz/EZ9gVIPeyP3TaQKcNdLI/s1bHBA/msT+B3GsuJE2xPxq9LWt1TLA/Ryijt2Wtrj966SYxCKysP5VDi2zn+6k/okW28/3UqD/pbVmrY4KnP4AjlNHbsqY/L5b8Yskvpj807AqQe82lP40lv1jyi6U/Uf9GKKO3pT93vp8aL92kPw102kCnDaQ/f2q8dJMYpD9N8GCeqH+jP03wYJ6of6M/j8L1KFyPoj9ANV66SQyiP36x5BdLfqE/aUrF2YfPoD/3U+Olm8SgP9pApw102qA/FWcfPsOuoD9XObTIdr6fP3fpJjEIrJw/ThvotIFOmz/vNReSplScPylcj8L1KJw/XNbqmODBnD8+w64AudecPyCwcmiR7Zw/+/AZdgXInT9c1uqY4MGcP5X8Yskvlpw/gJVDi2znmz9CYOXQItuZP8+wK0DuNZc/QO41F5KmlD+it2WtjgmOP5SKsw+fYYc/zIWkKRVnfz/6qfHSTWJwP4ni7MNn2CU/lVBGb8tabb+PUEZvy1p9vwbIveZC0oS/8DUXkqZUjL+dxCCwcmiRv3cFyL3mQpK/Qu41F5KmlL+Re82FpCmVv/ZvhDJ6W5a/Q2Dl0CLbmb9qke18PzWev/2p8dJNYqC/SeF6FK5Hob/L6G1Zq2Oiv519+Ay7AqS/HC/dJAaBpb/tw2fYFSCnv/UoXI/C9ai/s1bHBA/mqb9n2BUg95qrv1eA3GsuJK2/wMqhRbbzrb8eEzyYJ+qvv8OuALnXXLC/ppvEILBysL/cay4kTamwv0w3iUFg5bC/K84+fIZdsb9fcyFpSsWxv0A1XrpJDLK/l24Sg8DKsb8LkHvNhaSxv7WBThvotLG/0WkDnTbQsb97W9bqmOCxv5qZmZmZmbG/R+F6FK5Hsb+CB/NE/RuxvxVnHz7DrrC/b8taHRM8sL9RuB6F61Gwv48JHswT9a+/vHSTGARWrr+sY4IH80Stv/KLJb9Y8qu/yb3mQtKUqr/PaQOdNtCpv5VDi2zn+6m/C5B7zYWkqb9LDAIrhxapv8BY8oslv6i//tR46SYxqL8gPsOuALmnvwvXo3A9Cqe/FtnO91Pjpb+l4uzDZ9ilv+m0gU4b6KS/hMDKoUW2o78zMzMzMzOjv29Zq2OCB6O/QDVeukkMor+cxCCwcmihvxEREREREaG/i7MPn2FXoL+pxks3iUGgv4yzD59hV6C/z4WkKRVnn78EnTbQaQOdv/HSTWIQWJm/ke18PzVemr98hl0Bcq+Zv0Jg5dAi25m/3WsuJE2pmL93d3d3d3eXv8L1KFyPwpW/tTomeDBPlL8730+Nl26Sv86FpCkVZ4+/NKXi7MNniL+cxCCwcmiBv5FQRm/LWm2/XhvotIFOS7/3qfHSTWJQP8uFpCkVZ18/0bArQO41Zz8930+Nl25iPytNqTj78Fk/VRvotIFOOz9EG+i0gU5Lv/qp8dJNYlC/935qvHSTaL8kTak4+/Bpv3wUrkfhemS/IngwT9S/Ub/3qfHSTWJQv/F+arx0k0i/PEZvy1odQ79RG+i0gU47v0Qb6LSBTju/AKrx0k1iQL8AqvHSTWJAP7tJDAIrh2Y/jlBGb8tabT8P5on6N0JpP/qp8dJNYnA/jnvNhaQpZT8ieDBP1L9RPxERERERETG8REZvy1odQ7/v4uzDZ9gVPwl/arx0k0g/LE2pOPvwWT/CSQwCK4dmP2qtjgkezHM/gBSuR+F6dD8ya3VM8GB+Px4EVg4tsn0/aYIH80T9ez9mggfzRP17P9CFpCkVZ38/N9BpA502gD/9qfHSTWKAP6O3Za2OCX4/hDJ6W9bqeD+wK0DuNRdyP2OtjgkezGM/d+kmMQisXD9RG+i0gU47P2bi7MNn2CW/LU2pOPvwWT8DqvHSTWJgP2utjgkezGM/quLsw2fYZT++SQwCK4dmP5J7zYWkKWU/6RdLfrHkZz8TERERERFxPzGW/GLJL3Y/RNKUirMPfz8meDBP1L+BP+AIZfS2rIU/SwwCK4cWiT+0D59hV4CMP1o5tMh2vo8/Q4ts5/upkT/c+X5qvHSTP3Joke18P5U/WmQ730+Nlz+/WPKLJb+YP3yGXQFyr5k/QmDl0CLbmT8kTak4+/CZP7es1THBg5k/6yYxCKwcmj+vALnXXEiaP3PaQKcNdJo/okW28/3UmD+N3pa1OiaYPyfq3whl9JY/Tqk4+/AZlj/tw2fYFSCXP8L1KFyPwpU/3Pl+arx0kz+3HoXrUbiOP4MyelvW6og/078RyuhtiT/0b4QyeluGPxUg95oLSYM/61G4HoXrgT/Bg3mi/o2AP7YehetRuH4/FgRWDi2yfT8WBFYOLbJ9P8Jn2BUg93o/7WCeqH8jdD/HsCtA7jVnP8KwK0DuNVc/4n5qvHSTSD+i4uzDZ9hVP3oUrkfhemQ/ehSuR+F6ZD+i4uzDZ9hlP/V+arx0k2g/y7ArQO41Zz+GUEZvy1ptP+EXS36x5Hc/SjeJQWDlgD+KbOf7qfGCP6DTBjptoIM/Hj7DrgC5hz/XzvdT46WLPxcEVg4tso0/PsOuALnXjD9kggfzRP2LP/6NUEZvy4o/JE2pOPvwiT/6fmq8dJOIP15zIWlKxYk/72CeqH8jhD/qUbgeheuBPy2W/GLJL3Y/3xdLfrHkZz/mfmq8dJNIP7Pi7MNn2FW/prdlrY4Jbr/Jkl8s+cVyvzGW/GLJL3a/W2Q730+Nd7+FMnpb1up4v3HLWh0TPHi/cctaHRM8eL8730+Nl26Cv6vx0k1iEIi/6SYxCKwcir/+jVBGb8uKv9rO91PjpYu/TxvotIFOi7+fqH8jlNGLv1Ab6LSBTou/ZYIH80T9i7+fqH8jlNGLv9vO91PjpYu/hjJ6W9bqiL+Re82FpCmFvxcg95oLSYO/PLTIdr6fer+xK0DuNRdyv71JDAIrh2a//H5qvHSTWL9z6SYxCKxcv2WtjgkezGO/TRvotIFOa7/a+X5qvHRzvw/mifo3Qnm/ThvotIFOe7/rUbgeheuBv7U6JngwT4S/xZJfLPnFgr/7qfHSTWKAvy1rdUzwYH6/e+kmMQisfL9xy1odEzx4v7IrQO41F3K/D+aJ+jdCab/zfmq8dJNYvzwb6LSBTju/AKrx0k1iUD+Se82FpCllPzzfT42XbnI/nJmZmZmZeT+dxCCwcmiBPyyHFtnO94M/kXvNhaQphT+7SQwCK4eGPzCW/GLJL4Y/0LArQO41hz9A7jUXkqaEP6DTBjptoIM/dAXIveZCgj/Fkl8s+cWCP5vEILByaIE/OrTIdr6fej8CnTbQaQN9PyRNqTj78Hk/jXvNhaQpdT/KhaQpFWdvP94XS36x5Gc/TUZvy1odYz9vFK5H4XpUP6Di7MNn2FU/Ik2pOPvwaT/Ekl8s+cVyPzbQaQOdNoA/Gi/dJAaBhT+uALnXXEiKP2KCB/NE/Ys/Gb0ta3VMkD/rUbgeheuRPzMzMzMzM5M/y6FFtvP9lD8FyL3mQtKUP7Gd76fGS5c/+n5qvHSTmD/14TPsCpCbPxcEVg4tsp0/S36x5BdLnj8AAAAAAACgPzN6W9bqmKA/TDeJQWDloD9J4XoUrkehPyvOPnyGXaE/tYFOG+i0oT+ZbhKDwMqhP+Slm8QgsKI/v+ZC0pSKoz+V0duyVsekP28Sg8DKoaU/v58aL90kpj8z7AqQe82lP1H/Riijt6U/EoPAyqFFpj+dNtBpA52mP166SQwCK6c/5BdLfrHkpz+iRbbz/dSoPw/mifo3Qqk/IPeaC0lTqj+JQWDl0CKrP9rO91Pjpas/JQaBlUOLrD8eWmQ730+tPxFYObTIdq4/Xo/C9Shcrz/F2YfPsCuwP2t1TPBgnrA/nxov3SQGsT9+seQXS36xP1sdEzyYJ7I/jGzn+6nxsj/ziyW/WPKzP8l2vp8aL7U/9W+EMnpbtj+UirMPn2G3P1PjpZvEILg/Zh8+w64AuT/SlIqzD5+5P68AuddcSLo/xZJfLPnFuj9PG+i0gU67P0rF2YfPsLs/B/NE/RuhvD83Qhm9LWu9P02pOPvwGb4/EoPAyqFFvj+dNtBpA52+P5ngwTxR/74/fM2FpCkVvz9Apw102kC/P12PwvUoXL8/AiuHFtnOvz8BAAAAAADAP0dvy1odE8A/REREREREwD+JiIiIiIjAPz/uNReSpsA/W9bqmODBwD/MzMzMzMzAP7C5kDSl4sA/WqtjggfzwD+CB/NE/RvBPyrOPnyGXcE/pg102kCnwT8JZfS2rNXBPxKDwMqhRcI/VscED+aJwj+mVJx9+AzDP03wYJ6of8M/16NwPQrXwz9x9uEz7ArEP2As+cWSX8Q/woN5ov6NxD/eay4kTanEPwbIveZC0sQ/oRov3SQGxT88baDTBjrFP/PSTWIQWMU/89JNYhBYxT+dxCCwcmjFPwBHKKO3ZcU/4jPsCpB7xT8po7dlrY7FP3yGXQFyr8U//PAZdgXIxT9CYOXQItvFP3kwT9S/EcY/95oLSVMqxj/XXEiaUnHGP7oehetRuMY/b1mrY4IHxz8xCKwcWmTHP5+ofyOU0cc//Knx0k1iyD8VZx8+w67IP0kMAiuHFsk/cD0K16NwyT9R/0Yoo7fJPzHBg3mi/sk/oYzelrU6yj9yr7mQNKXKPw0CK4cW2co//WLJL5b8yj9Bpw102kDLP77mQtKUiss/FPVvhDJ6yz9N8GCeqH/LP2nYFSD3mss/EcrobVmryz9WDi2yne/LP/7UeOkmMcw/Qhm9LWt1zD+x5BdLfrHMP/dT46WbxMw/nu+nxks3zT/SlIqzD5/NP0/UvxHK6M0/MJb8Yskvzj8ezBP1b4TOP6l/I5TR284/z7ArQO41zz9N8GCeqH/PP9ejcD0K188/DnTaQKcN0D9iV4Dcay7QPzCW/GLJL9A/Gb0ta3VM0D8g95oLSVPQPwoezBP1b9A/SVMqzj580D/IveZC0pTQP3KvuZA0pdA/Ryijt2Wt0D+/WPKLJb/QPzFP1L8RytA/N4lBYOXQ0D8FyL3mQtLQP83MzMzMzNA/v1jyiyW/0D/Gkl8s+cXQP83MzMzMzNA/Q9KUirMP0T/CPFH/RijRP57vp8ZLN9E/gNxrLiRN0T/5DLsC5F7RPw27AuRec9E/6W1Zq2OC0T89Uf9GKKPRP4PAyqFFttE/M+wKkHvN0T9mrY4JHszRP3MhaUrF2dE/OyZ4ME/U0T8eEzyYJ+rRPzHBg3mi/tE/Tak4+/AZ0j8ED+aJ+jfSP0t+seQXS9I/ZmZmZmZm0j9KUyrOPnzSPyQGgZVDi9I/fBSuR+F60j/cay4kTanSPzeJQWDl0NI/Zh8+w64A0z+mVJx9+AzTP+3DZ9gVINM/0LArQO410z8Ccq+5kDTTPwJyr7mQNNM/UUZvy1od0z+tjgkezBPTP9cVIPeaC9M/xGfYFSD30j9MN4lBYOXSPw0CK4cW2dI/PsOuALnX0j/aQKcNdNrSP+F6FK5H4dI/TDeJQWDl0j/iehSuR+HSPwXIveZC0tI/8Rl2Bci90j9c1uqY4MHSP/p+arx0k9I/ZDvfT42X0j8zelvW6pjSP/NE/RuhjNI/Mnpb1uqY0j8coYzelrXSPykVZx8+w9I/TDeJQWDl0j+Z4ME8Uf/SP62OCR7ME9M/+jdCGb0t0z+/EcrobVnTP8QgsHJokdM/CWX0tqzV0z/VeOkmMQjUP8vobVmrY9Q/iYiIiIiI1D966SYxCKzUP1zW6pjgwdQ/vi1rdUzw1D/tw2fYFSDVP7rXXEiaUtU/Rrbz/dR41T89Uf9GKKPVP56ofyOU0dU/s1bHBA/m1T/e3d3d3d3VP48JHswT9dU/+sWSXyz51T/JBA/mifrVPw902kCnDdY/HOi0gU4b1j8xlvxiyS/WP0RERERERNY/UrgehetR1j+9dJMYBFbWPzWl4uzDZ9Y/5dAi2/l+1j+7SQwCK4fWPxeSplScfdY/ArnXXEia1j8VZx8+w67WP1WcffgMu9Y/3ECnDXTa1j9NN4lBYOXWPy8kTak4+9Y/fM2FpCkV1z9zaJHtfD/XP5WKsw+fYdc/o/6NUEZv1z93d3d3d3fXP1L/Riijt9c/NewKkHvN1z+QCR7ME/XXPxzotIFOG9g/qcZLN4lB2D8RWDm0yHbYPw8tsp3vp9g/+lPjpZvE2D9F/RuhjN7YP8Rn2BUg99g/fM2FpCkV2T/X6pjgwTzZP6L+jVBGb9k/3Pl+arx02T+NJb9Y8ovZP9KUirMPn9k/50LSlIqz2T/0tqzVMcHZP5duEoPAytk/puLsw2fY2T8X2c73U+PZP8LKoUW289k/QDVeukkM2j+kt2WtjgnaP+omMQisHNo/OvvwGXYF2j9/arx0kxjaP7llrY4JHto/hqQpFWcf2j9cHRM8mCfaPwUP5on6N9o/rwC511xI2j8ED+aJ+jfaPxzotIFOG9o/cfbhM+wK2j8OdNpApw3aPzr78Bl2Bdo/KlyPwvUo2j/+1HjpJjHaP0x+seQXS9o/IPeaC0lT2j/L6G1Zq2PaP4JOG+i0gdo/LUDuNReS2j/eay4kTanaP6l/I5TR29o/k6ZUnH342j8XS36x5BfbP3qi/o1QRts/d3d3d3d32z8EVg4tsp3bP4r6N0IZvds/gZVDi2zn2z/3mgtJUyrcPy9rdUzwYNw/QO41F5Km3D8NAiuHFtncP1FGb8taHd0/MzMzMzMz3T8rzj58hl3dP9z5fmq8dN0/8KfGSzeJ3T8SyuhtWavdPwIrhxbZzt0/JE2pOPvw3T8c6LSBThvePyD3mgtJU94/+n5qvHST3j9whDJ6W9beP+aJ+jdCGd8/VVVVVVVV3z9N8GCeqH/fP9ejcD0K198/nX34DLsC4D/fT42XbhLgP7ErQO41F+A/UUZvy1od4D8pXI/C9SjgPzbQaQOdNuA/RERERERE4D/rmODBPFHgP2ZmZmZmZuA/1L8Ryuht4D+mm8QgsHLgP2ZmZmZmZuA/qjj78Bl24D+MJb9Y8ovgPwfzRP0boeA/fIZdAXKv4D8meDBP1L/gP/vwGXYFyOA/dr6fGi/d4D+Iz7ArQO7gP2cfPsOuAOE/Rm/LWh0T4T+8AuRecyHhP5MYBFYOLeE/2ofPsCtA4T/rmODBPFHhP1yPwvUoXOE/o/6NUEZv4T+3rNUxwYPhP8xaHRM8mOE/S8XZh8+w4T9qSsXZh8/hP+m0gU4b6OE/zz58hl0B4j9XgNxrLiTiP5pScfbhM+I/D+aJ+jdC4j9VVVVVVVXiP/yp8dJNYuI/Y8kvlvxi4j+ZJ+rfCGXiP/9GKKO3ZeI/Y8kvlvxi4j8qzj58hl3iP8ARyuhtWeI/HVpkO99P4j/TTWIQWDniP39qvHSTGOI/vALkXnMh4j+q8dJNYhDiPzr78Bl2BeI//WLJL5b84T+MbOf7qfHhP7bz/dR46eE/tvP91Hjp4T/2KFyPwvXhP29Zq2OCB+I/oRov3SQG4j+mVJx9+AziP6AaL90kBuI/FK5H4XoU4j+8AuRecyHiP/s3Qhm9LeI/cmiR7Xw/4j+EeaL+jVDiP82FpCkVZ+I/SVMqzj584j8po7dlrY7iPzxR/0Yoo+I/2s73U+Ol4j9XObTIdr7iPzFP1L8RyuI/3t3d3d3d4j/rUbgeheviPwAAAAAAAOM/4uzDZ9gV4z8s+cWSXyzjPzptoNMGOuM/3iQGgZVD4z8mMQisHFrjP7FyaJHtfOM/iYiIiIiI4z+JiIiIiIjjP5DC9Shcj+M/80T9G6GM4z+TXyz5xZLjP8QgsHJokeM/Mnpb1uqY4z8DVg4tsp3jP9KUirMPn+M/2c73U+Ol4z99hl0Bcq/jP28Sg8DKoeM/C5B7zYWk4z/EILByaJHjP0a28/3UeOM/zoWkKRVn4z8/fIZdAXLjP7ByaJHtfOM/hetRuB6F4z9WxwQP5onjP5NfLPnFkuM/BFYOLbKd4z/gCGX0tqzjP7WBThvotOM/gsDKoUW24z98hl0Bcq/jP7SBThvotOM/tx6F61G44z+5HoXrUbjjP42XbhKDwOM/ME/UvxHK4z9s5/up8dLjPwll9Las1eM/DAIrhxbZ4z8JZfS2rNXjPxp2Bci95uM/fvgMuwLk4z+EMnpb1urjP9xApw102uM/rRxaZDvf4z8isHJoke3jPzr78Bl2BeQ/T6k4+/AZ5D8qXI/C9SjkP9fqmODBPOQ/TxvotIFO5D8nMQisHFrkP1VVVVVVVeQ/oGFXgNxr5D+t1THBg3nkP/t+arx0k+Q/1jHBg3mi5D/azvdT46XkP+dC0pSKs+Q/wvUoXI/C5D807AqQe83kPxM8mCfq3+Q/vi1rdUzw5D86+/AZdgXlP0sMAiuHFuU/001iEFg55T+VirMPn2HlP1bHBA/mieU/HKGM3pa15T+pfyOU0dvlP1qrY4IH8+U/oBov3SQG5j8XS36x5BfmP166SQwCK+Y/b8taHRM85j/ah8+wK0DmP0fhehSuR+Y/TH6x5BdL5j/n+6nx0k3mP2PJL5b8YuY/SVMqzj585j+6SQwCK4fmPy/dJAaBleY/QO41F5Km5j+8u7u7u7vmP5sLSVMqzuY/qX8jlNHb5j+AlUOLbOfmP5KmVJx9+OY/3LJWxwQP5z92CS53CS7nP8SIpMTxRec/LvRCL/RC5z93eQhIZFTnP2i04kq1ZOc/ZirUsydz5z+6VV439X7nP1Uacu6zi+c/RxNpO+Sa5z9tSGUg7p/nP4StVbAPpec/XG5/kKGy5z8hauljZL3nPwWIQLqsyuc/yLW4Gm7X5z9VhHi76t7nPx5k3zdS6+c/8SNXir3w5z/Gay1As/jnP3icoiO5/Oc/AAAAAAAA6D/QEnbzWwjoP1b1TJ8zD+g/20CnDXQa6D8aXjEaCx/oP+eEEg3cIug/GtCmAW0a6D+O/77tlhPoP2K035TnEug/WxhxY+8U6D+BC1zgAhfoPyBq+qGmH+g/BKmcs/Yw6D/SNWq29jzoP9bpl9/AO+g/xWvvKdJV6D+9mB6YfXLoP4zMzcjcjOg/qEVxgMie6D9Ei2zn+6noP9iA0pjDveg/33+XEbPK6D//AX1EGdroP0roQyb76ug/t4eqhX/+6D8VRBJWHQ7pP/ASWeX9Luk/oPRJn/RJ6T+gBbelrXTpP8Sm0pBzn+k/A7C2hZe/6T/J+y5ilcjpP1mR+/YQ0+k/37nxnRvf6T+jFMVlCu7pPwAAAAAAAOo/ee09RboK6j8bPpzhwxnqPzFg1+nzJ+o/\",\"dtype\":\"float64\",\"shape\":[1656]}}},\"id\":\"3ff942eb-2b0b-451e-8829-45776ffee507\",\"type\":\"ColumnDataSource\"},{\"attributes\":{\"dimension\":1,\"grid_line_alpha\":{\"value\":0.1},\"grid_line_color\":{\"value\":\"blue\"},\"plot\":{\"id\":\"5a569829-66a4-4d6e-9081-6ed70d9da06e\",\"subtype\":\"Figure\",\"type\":\"Plot\"},\"ticker\":{\"id\":\"2b60b136-f385-471f-8741-19157538d8be\",\"type\":\"BasicTicker\"}},\"id\":\"14130feb-d0b0-4b8a-9e89-56e59588b072\",\"type\":\"Grid\"},{\"attributes\":{},\"id\":\"ed9adcdb-030f-4901-a719-9b41477ce284\",\"type\":\"LinearScale\"},{\"attributes\":{\"background_fill_alpha\":{\"value\":0.1},\"background_fill_color\":{\"value\":\"olive\"},\"below\":[{\"id\":\"2fc70331-1458-4459-8397-fc71020d5ab4\",\"type\":\"DatetimeAxis\"}],\"left\":[{\"id\":\"61437cdb-87f0-4b9d-87c7-a1b6db77f508\",\"type\":\"LinearAxis\"}],\"outline_line_alpha\":{\"value\":0.3},\"outline_line_color\":{\"value\":\"navy\"},\"outline_line_width\":{\"value\":7},\"plot_height\":500,\"plot_width\":900,\"renderers\":[{\"id\":\"2fc70331-1458-4459-8397-fc71020d5ab4\",\"type\":\"DatetimeAxis\"},{\"id\":\"831e92b6-22bc-48de-8d51-22d6a1d10cc6\",\"type\":\"Grid\"},{\"id\":\"61437cdb-87f0-4b9d-87c7-a1b6db77f508\",\"type\":\"LinearAxis\"},{\"id\":\"14130feb-d0b0-4b8a-9e89-56e59588b072\",\"type\":\"Grid\"},{\"id\":\"787f3a08-b56d-4479-95a4-5f9a7a413cab\",\"type\":\"BoxAnnotation\"},{\"id\":\"3cf06785-5d0e-4003-86b8-5fd9fe10f0b4\",\"type\":\"Legend\"},{\"id\":\"39da6b65-792b-47dd-8459-654a9f3e679e\",\"type\":\"GlyphRenderer\"},{\"id\":\"deed3845-056f-4dc7-af55-e1a48bbc3e73\",\"type\":\"GlyphRenderer\"},{\"id\":\"0f9fba97-e746-4906-87aa-6feede13d126\",\"type\":\"GlyphRenderer\"}],\"title\":{\"id\":\"444e1ea1-93a1-469d-914e-3519f27411f6\",\"type\":\"Title\"},\"toolbar\":{\"id\":\"f0e08184-f326-45d1-9b22-1e207e80fa33\",\"type\":\"Toolbar\"},\"x_range\":{\"id\":\"0095b959-a95c-4e86-97a4-d6d71a909f2d\",\"type\":\"DataRange1d\"},\"x_scale\":{\"id\":\"ed9adcdb-030f-4901-a719-9b41477ce284\",\"type\":\"LinearScale\"},\"y_range\":{\"id\":\"10c07da7-62d9-40ae-8d84-f398c4202424\",\"type\":\"DataRange1d\"},\"y_scale\":{\"id\":\"156501cc-8f66-4682-b08b-104fd898ff55\",\"type\":\"LinearScale\"}},\"id\":\"5a569829-66a4-4d6e-9081-6ed70d9da06e\",\"subtype\":\"Figure\",\"type\":\"Plot\"},{\"attributes\":{\"fill_alpha\":{\"value\":0.4},\"fill_color\":{\"value\":\"red\"},\"line_alpha\":{\"value\":0.4},\"line_color\":{\"value\":\"red\"},\"x\":{\"field\":\"x\"},\"y\":{\"field\":\"y\"}},\"id\":\"2ec05521-50fc-4290-90fc-6d6bc56a5d89\",\"type\":\"Circle\"},{\"attributes\":{\"mantissas\":[1,2,5],\"max_interval\":500.0,\"num_minor_ticks\":0},\"id\":\"3237cc2d-5b49-4f7e-970f-12322d24c576\",\"type\":\"AdaptiveTicker\"},{\"attributes\":{},\"id\":\"475799c3-8fca-4385-b7aa-d324e33b104a\",\"type\":\"WheelZoomTool\"},{\"attributes\":{\"months\":[0,4,8]},\"id\":\"b7f40b07-33d0-42f7-bdfb-7fa90ab97468\",\"type\":\"MonthsTicker\"},{\"attributes\":{\"line_alpha\":{\"value\":0.1},\"line_color\":{\"value\":\"#1f77b4\"},\"line_width\":{\"value\":3},\"x\":{\"field\":\"x\"},\"y\":{\"field\":\"y\"}},\"id\":\"b4f1fab0-7de9-4d26-9502-da16ac7c0073\",\"type\":\"Line\"},{\"attributes\":{\"bottom_units\":\"screen\",\"fill_alpha\":{\"value\":0.5},\"fill_color\":{\"value\":\"lightgrey\"},\"left_units\":\"screen\",\"level\":\"overlay\",\"line_alpha\":{\"value\":1.0},\"line_color\":{\"value\":\"black\"},\"line_dash\":[4,4],\"line_width\":{\"value\":2},\"plot\":null,\"render_mode\":\"css\",\"right_units\":\"screen\",\"top_units\":\"screen\"},\"id\":\"787f3a08-b56d-4479-95a4-5f9a7a413cab\",\"type\":\"BoxAnnotation\"},{\"attributes\":{},\"id\":\"8e299693-6374-45fc-bd77-e9f8f9fe74fd\",\"type\":\"SaveTool\"},{\"attributes\":{\"source\":{\"id\":\"f8bf5260-1ec8-4b20-9e1c-49d6748784ad\",\"type\":\"ColumnDataSource\"}},\"id\":\"86f49087-d299-48ba-a8f5-44c906dd6154\",\"type\":\"CDSView\"},{\"attributes\":{\"months\":[0,6]},\"id\":\"f6d9f07d-d233-48bb-a050-32ddc9e6c7f2\",\"type\":\"MonthsTicker\"},{\"attributes\":{\"line_alpha\":{\"value\":0.7},\"line_color\":{\"value\":\"navy\"},\"line_width\":{\"value\":3},\"x\":{\"field\":\"x\"},\"y\":{\"field\":\"y\"}},\"id\":\"c2b10a91-456a-4231-8813-81278cde1f93\",\"type\":\"Line\"},{\"attributes\":{\"fill_alpha\":{\"value\":0.1},\"fill_color\":{\"value\":\"#1f77b4\"},\"line_alpha\":{\"value\":0.1},\"line_color\":{\"value\":\"#1f77b4\"},\"x\":{\"field\":\"x\"},\"y\":{\"field\":\"y\"}},\"id\":\"6aaaf98e-7c6d-4353-afe1-de24f54f5018\",\"type\":\"Circle\"},{\"attributes\":{\"axis_label\":\"Anomal\\u00eda \\u00baC\",\"axis_label_text_font_size\":{\"value\":\"14pt\"},\"formatter\":{\"id\":\"6a0ac04d-213d-4d90-9d54-534f97beab75\",\"type\":\"BasicTickFormatter\"},\"major_tick_line_color\":{\"value\":\"red\"},\"major_tick_line_width\":{\"value\":3},\"minor_tick_line_color\":{\"value\":\"orange\"},\"plot\":{\"id\":\"5a569829-66a4-4d6e-9081-6ed70d9da06e\",\"subtype\":\"Figure\",\"type\":\"Plot\"},\"ticker\":{\"id\":\"2b60b136-f385-471f-8741-19157538d8be\",\"type\":\"BasicTicker\"}},\"id\":\"61437cdb-87f0-4b9d-87c7-a1b6db77f508\",\"type\":\"LinearAxis\"},{\"attributes\":{\"source\":{\"id\":\"1c64f05c-4765-4b45-9f75-6f6219f1684f\",\"type\":\"ColumnDataSource\"}},\"id\":\"045cb071-0af2-4b2e-82cc-78d3309febb4\",\"type\":\"CDSView\"},{\"attributes\":{\"label\":{\"value\":\"Promedio 10 a\\u00f1os\"},\"renderers\":[{\"id\":\"0f9fba97-e746-4906-87aa-6feede13d126\",\"type\":\"GlyphRenderer\"}]},\"id\":\"b75163e4-1efd-4591-8c8b-b18c894177d2\",\"type\":\"LegendItem\"},{\"attributes\":{\"months\":[0,2,4,6,8,10]},\"id\":\"a68ef965-de7d-4f49-a33c-439d5a529708\",\"type\":\"MonthsTicker\"},{\"attributes\":{\"data_source\":{\"id\":\"1c64f05c-4765-4b45-9f75-6f6219f1684f\",\"type\":\"ColumnDataSource\"},\"glyph\":{\"id\":\"2ec05521-50fc-4290-90fc-6d6bc56a5d89\",\"type\":\"Circle\"},\"hover_glyph\":null,\"muted_glyph\":null,\"nonselection_glyph\":{\"id\":\"6aaaf98e-7c6d-4353-afe1-de24f54f5018\",\"type\":\"Circle\"},\"selection_glyph\":null,\"view\":{\"id\":\"045cb071-0af2-4b2e-82cc-78d3309febb4\",\"type\":\"CDSView\"}},\"id\":\"39da6b65-792b-47dd-8459-654a9f3e679e\",\"type\":\"GlyphRenderer\"},{\"attributes\":{\"days\":[1,2,3,4,5,6,7,8,9,10,11,12,13,14,15,16,17,18,19,20,21,22,23,24,25,26,27,28,29,30,31]},\"id\":\"f0721a9e-e90e-4aa4-889f-ed15665bb577\",\"type\":\"DaysTicker\"},{\"attributes\":{},\"id\":\"0a9763f3-fd51-4ed6-bd0e-917332674e48\",\"type\":\"ResetTool\"},{\"attributes\":{\"num_minor_ticks\":5,\"tickers\":[{\"id\":\"3237cc2d-5b49-4f7e-970f-12322d24c576\",\"type\":\"AdaptiveTicker\"},{\"id\":\"9c90f789-5735-4150-a769-fbb691660b74\",\"type\":\"AdaptiveTicker\"},{\"id\":\"5a09ebff-41de-468e-9d3a-19300ca7a68e\",\"type\":\"AdaptiveTicker\"},{\"id\":\"f0721a9e-e90e-4aa4-889f-ed15665bb577\",\"type\":\"DaysTicker\"},{\"id\":\"d8c5c3be-2b73-4ae9-9983-9ab5283f2588\",\"type\":\"DaysTicker\"},{\"id\":\"f95649d9-9d93-479e-960d-9afe60f9a924\",\"type\":\"DaysTicker\"},{\"id\":\"ce879fcc-6d10-4153-bb27-17315a4dedef\",\"type\":\"DaysTicker\"},{\"id\":\"2feaebc5-125c-4c10-8c47-1f98274053fb\",\"type\":\"MonthsTicker\"},{\"id\":\"a68ef965-de7d-4f49-a33c-439d5a529708\",\"type\":\"MonthsTicker\"},{\"id\":\"b7f40b07-33d0-42f7-bdfb-7fa90ab97468\",\"type\":\"MonthsTicker\"},{\"id\":\"f6d9f07d-d233-48bb-a050-32ddc9e6c7f2\",\"type\":\"MonthsTicker\"},{\"id\":\"b06e3a3b-050b-48c8-92e1-c260cd9bb22b\",\"type\":\"YearsTicker\"}]},\"id\":\"ccc49224-6477-4ffd-aabd-7408bbd09fc0\",\"type\":\"DatetimeTicker\"},{\"attributes\":{\"axis_label\":\"Fecha\",\"axis_label_text_font_size\":{\"value\":\"14pt\"},\"formatter\":{\"id\":\"04504963-b3ec-4b56-8dbc-9fc931ca89ec\",\"type\":\"DatetimeTickFormatter\"},\"plot\":{\"id\":\"5a569829-66a4-4d6e-9081-6ed70d9da06e\",\"subtype\":\"Figure\",\"type\":\"Plot\"},\"ticker\":{\"id\":\"ccc49224-6477-4ffd-aabd-7408bbd09fc0\",\"type\":\"DatetimeTicker\"}},\"id\":\"2fc70331-1458-4459-8397-fc71020d5ab4\",\"type\":\"DatetimeAxis\"},{\"attributes\":{\"callback\":null,\"column_names\":[\"y\",\"x\"],\"data\":{\"x\":{\"__ndarray__\":\"AAAAqyyqhMIAAOCBL6WEwgAAgL6EoITCAABglYebhMIAACCfs5aEwgAAAHa2kYTCAADAf+KMhMIAAKBW5YeEwgAAgC3ogoTCAABANxR+hMIAACAOF3mEwgAA4BdDdITCAADA7kVvhMIAAKDFSGqEwgAAIDXHZYTCAAAADMpghMIAAMAV9luEwgAAoOz4VoTCAABg9iRShMIAAEDNJ02EwgAAIKQqSITCAADgrVZDhMIAAMCEWT6EwgAAgI6FOYTCAABgZYg0hMIAAEA8iy+EwgAAwKsJK4TCAACgggwmhMIAAGCMOCGEwgAAQGM7HITCAAAAbWcXhMIAAOBDahKEwgAAwBptDYTCAACAJJkIhMIAAGD7mwOEwgAAIAXI/oPCAAAA3Mr5g8IAAOCyzfSDwgAAYCJM8IPCAABA+U7rg8IAAAADe+aDwgAA4Nl94YPCAACg46ncg8IAAIC6rNeDwgAAYJGv0oPCAAAgm9vNg8IAAABy3siDwgAAwHsKxIPCAACgUg2/g8IAAIApELqDwgAAIGZltYPCAAAAPWiwg8IAAMBGlKuDwgAAoB2XpoPCAABgJ8Ohg8IAAED+xZyDwgAAINXIl4PCAADg3vSSg8IAAMC1942DwgAAgL8jiYPCAABgliaEg8IAAEBtKX+DwgAAwNyneoPCAACgs6p1g8IAAGC91nCDwgAAQJTZa4PCAAAAngVng8IAAOB0CGKDwgAAwEsLXYPCAACAVTdYg8IAAGAsOlODwgAAIDZmToPCAAAADWlJg8IAAODja0SDwgAAYFPqP4PCAABAKu06g8IAAAA0GTaDwgAA4AocMYPCAACgFEgsg8IAAIDrSieDwgAAYMJNIoPCAAAgzHkdg8IAAACjfBiDwgAAwKyoE4PCAACgg6sOg8IAAIBargmDwgAAAMosBYPCAADgoC8Ag8IAAKCqW/uCwgAAgIFe9oLCAABAi4rxgsIAACBijeyCwgAAADmQ54LCAADAQrzigsIAAKAZv92CwgAAYCPr2ILCAABA+u3TgsIAACDR8M6CwgAAwA1GyoLCAACg5EjFgsIAAGDudMCCwgAAQMV3u4LCAAAAz6O2gsIAAOClprGCwgAAwHyprILCAACAhtWngsIAAGBd2KKCwgAAIGcEnoLCAAAAPgeZgsIAAOAUCpSCwgAAYISIj4LCAABAW4uKgsIAAABlt4WCwgAA4Du6gILCAACgReZ7gsIAAIAc6XaCwgAAYPPrcYLCAAAg/RdtgsIAAADUGmiCwgAAwN1GY4LCAACgtElegsIAAICLTFmCwgAAAPvKVILCAADg0c1PgsIAAKDb+UqCwgAAgLL8RYLCAABAvChBgsIAACCTKzyCwgAAAGouN4LCAADAc1oygsIAAKBKXS2CwgAAYFSJKILCAABAK4wjgsIAACACjx6CwgAAoHENGoLCAACASBAVgsIAAEBSPBCCwgAAICk/C4LCAADgMmsGgsIAAMAJbgGCwgAAoOBw/IHCAABg6pz3gcIAAEDBn/KBwgAAAMvL7YHCAADgoc7ogcIAAMB40eOBwgAAYLUm34HCAABAjCnagcIAAACWVdWBwgAA4GxY0IHCAACgdoTLgcIAAIBNh8aBwgAAYCSKwYHCAAAgLra8gcIAAAAFubeBwgAAwA7lsoHCAACg5eetgcIAAIC86qiBwgAAACxppIHCAADgAmyfgcIAAKAMmJqBwgAAgOOalYHCAABA7caQgcIAACDEyYuBwgAAAJvMhoHCAADApPiBgcIAAKB7+3yBwgAAYIUneIHCAABAXCpzgcIAACAzLW6BwgAAoKKraYHCAACAea5kgcIAAECD2l+BwgAAIFrdWoHCAADgYwlWgcIAAMA6DFGBwgAAoBEPTIHCAABgGztHgcIAAEDyPUKBwgAAAPxpPYHCAADg0mw4gcIAAMCpbzOBwgAAQBnuLoHCAAAg8PApgcIAAOD5HCWBwgAAwNAfIIHCAACA2ksbgcIAAGCxThaBwgAAQIhREYHCAAAAkn0MgcIAAOBogAeBwgAAoHKsAoHCAACASa/9gMIAAGAgsviAwgAAAF0H9IDCAADgMwrvgMIAAKA9NuqAwgAAgBQ55YDCAABAHmXggMIAACD1Z9uAwgAAAMxq1oDCAADA1ZbRgMIAAKCsmcyAwgAAYLbFx4DCAABAjcjCgMIAACBky72AwgAAoNNJuYDCAACAqky0gMIAAEC0eK+AwgAAIIt7qoDCAADglKelgMIAAMBrqqCAwgAAoEKtm4DCAABgTNmWgMIAAEAj3JGAwgAAAC0IjYDCAADgAwuIgMIAAMDaDYOAwgAAQEqMfoDCAAAgIY95gMIAAOAqu3SAwgAAwAG+b4DCAACAC+pqgMIAAGDi7GWAwgAAQLnvYIDCAAAAwxtcgMIAAOCZHleAwgAAoKNKUoDCAACAek1NgMIAAGBRUEiAwgAA4MDOQ4DCAADAl9E+gMIAAICh/TmAwgAAYHgANYDCAAAggiwwgMIAAABZLyuAwgAA4C8yJoDCAACgOV4hgMIAAIAQYRyAwgAAQBqNF4DCAAAg8Y8SgMIAAADIkg2AwgAAgDcRCYDCAABgDhQEgMIAAEAwgP5/wgAAAN6F9H/CAACA8d3qf8IAAECf4+B/wgAAAE3p1n/CAACAYEHNf8IAAEAOR8N/wgAAwCGfuX/CAACAz6Svf8IAAEB9qqV/wgAAQFynnH/CAAAACq2Sf8IAAIAdBYl/wgAAQMsKf3/CAADA3mJ1f8IAAICMaGt/wgAAQDpuYX/CAADATcZXf8IAAID7y01/wgAAAA8kRH/CAADAvCk6f8IAAIBqLzB/wgAAgEksJ3/CAABA9zEdf8IAAMAKihN/wgAAgLiPCX/CAAAAzOf/fsIAAMB57fV+wgAAgCfz637CAAAAO0vifsIAAMDoUNh+wgAAQPyozn7CAAAAqq7EfsIAAMBXtLp+wgAAwDaxsX7CAACA5LanfsIAAAD4Dp5+wgAAwKUUlH7CAABAuWyKfsIAAABncoB+wgAAwBR4dn7CAABAKNBsfsIAAADW1WJ+wgAAgOktWX7CAABAlzNPfsIAAABFOUV+wgAAQL7jO37CAAAAbOkxfsIAAIB/QSh+wgAAQC1HHn7CAADAQJ8UfsIAAIDupAp+wgAAQJyqAH7CAADArwL3fcIAAIBdCO19wgAAAHFg433CAADAHmbZfcIAAIDMa899wgAAgKtoxn3CAABAWW68fcIAAMBsxrJ9wgAAgBrMqH3CAAAALiSffcIAAMDbKZV9wgAAgIkvi33CAAAAnYeBfcIAAMBKjXd9wgAAQF7lbX3CAAAADOtjfcIAAMC58Fl9wgAAwJjtUH3CAACARvNGfcIAAABaSz19wgAAwAdRM33CAABAG6kpfcIAAADJrh99wgAAwHa0FX3CAABAigwMfcIAAAA4EgJ9wgAAgEtq+HzCAABA+W/ufMIAAACndeR8wgAAAIZy23zCAADAM3jRfMIAAEBH0Md8wgAAAPXVvXzCAACACC60fMIAAEC2M6p8wgAAAGQ5oHzCAACAd5GWfMIAAEAll4x8wgAAwDjvgnzCAACA5vR4fMIAAECU+m58wgAAgA2lZXzCAABAu6pbfMIAAMDOAlJ8wgAAgHwISHzCAAAAkGA+fMIAAMA9ZjR8wgAAgOtrKnzCAAAA/8MgfMIAAMCsyRZ8wgAAQMAhDXzCAAAAbicDfMIAAMAbLfl7wgAAwPop8HvCAACAqC/me8IAAAC8h9x7wgAAwGmN0nvCAABAfeXIe8IAAAAr6757wgAAwNjwtHvCAABA7Eire8IAAACaTqF7wgAAgK2ml3vCAABAW6yNe8IAAAAJsoN7wgAAAOiuenvCAADAlbRwe8IAAECpDGd7wgAAAFcSXXvCAACAampTe8IAAEAYcEl7wgAAAMZ1P3vCAACA2c01e8IAAECH0yt7wgAAwJorInvCAACASDEYe8IAAED2Ng57wgAAQNUzBXvCAAAAgzn7esIAAICWkfF6wgAAQESX53rCAADAV+/desIAAIAF9dN6wgAAQLP6yXrCAADAxlLAesIAAIB0WLZ6wgAAAIiwrHrCAADANbaiesIAAIDju5h6wgAAwFxmj3rCAACACmyFesIAAAAexHt6wgAAwMvJcXrCAABA3yFoesIAAACNJ156wgAAwDotVHrCAABAToVKesIAAAD8ikB6wgAAgA/jNnrCAABAvegsesIAAABr7iJ6wgAAAErrGXrCAADA9/APesIAAEALSQZ6wgAAALlO/HnCAACAzKbyecIAAEB6rOh5wgAAACiy3nnCAACAOwrVecIAAEDpD8t5wgAAwPxnwXnCAACAqm23ecIAAEBYc615wgAAQDdwpHnCAAAA5XWaecIAAID4zZB5wgAAQKbThnnCAADAuSt9ecIAAIBnMXN5wgAAQBU3aXnCAADAKI9fecIAAIDWlFV5wgAAAOrsS3nCAADAl/JBecIAAIBF+Dd5wgAAgCT1LnnCAABA0vokecIAAMDlUht5wgAAgJNYEXnCAAAAp7AHecIAAMBUtv14wgAAgAK883jCAAAAFhTqeMIAAMDDGeB4wgAAQNdx1njCAAAAhXfMeMIAAMAyfcJ4wgAAAKwnuXjCAADAWS2veMIAAEBthaV4wgAAABuLm3jCAACALuOReMIAAEDc6Id4wgAAAIrufXjCAACAnUZ0eMIAAEBLTGp4wgAAwF6kYHjCAACADKpWeMIAAEC6r0x4wgAAQJmsQ3jCAAAAR7I5eMIAAIBaCjB4wgAAQAgQJnjCAADAG2gceMIAAIDJbRJ4wgAAQHdzCHjCAADAisv+d8IAAIA40fR3wgAAAEwp63fCAADA+S7hd8IAAICnNNd3wgAAgIYxznfCAABANDfEd8IAAMBHj7p3wgAAgPWUsHfCAAAACe2md8IAAMC28px3wgAAgGT4knfCAAAAeFCJd8IAAMAlVn93wgAAQDmudXfCAAAA57Nrd8IAAMCUuWF3wgAAwHO2WHfCAACAIbxOd8IAAAA1FEV3wgAAwOIZO3fCAABA9nExd8IAAACkdyd3wgAAwFF9HXfCAABAZdUTd8IAAAAT2wl3wgAAgCYzAHfCAABA1Dj2dsIAAACCPux2wgAAQPvo4nbCAAAAqe7YdsIAAIC8Rs92wgAAQGpMxXbCAADAfaS7dsIAAIArqrF2wgAAQNmvp3bCAADA7AeedsIAAICaDZR2wgAAAK5linbCAADAW2uAdsIAAIAJcXZ2wgAAgOhtbXbCAABAlnNjdsIAAMCpy1l2wgAAgFfRT3bCAAAAaylGdsIAAMAYLzx2wgAAgMY0MnbCAAAA2owodsIAAMCHkh52wgAAQJvqFHbCAAAASfAKdsIAAMD29QB2wgAAwNXy93XCAACAg/jtdcIAAACXUOR1wgAAwERW2nXCAABAWK7QdcIAAAAGtMZ1wgAAwLO5vHXCAABAxxGzdcIAAAB1F6l1wgAAgIhvn3XCAABANnWVdcIAAADkeot1wgAAAMN3gnXCAADAcH14dcIAAECE1W51wgAAADLbZHXCAACARTNbdcIAAEDzOFF1wgAAAKE+R3XCAACAtJY9dcIAAEBinDN1wgAAwHX0KXXCAACAI/ofdcIAAEDR/xV1wgAAgEqqDHXCAABA+K8CdcIAAMALCPl0wgAAgLkN73TCAAAAzWXldMIAAMB6a9t0wgAAgChx0XTCAAAAPMnHdMIAAMDpzr10wgAAQP0mtHTCAAAAqyyqdMIAAMBYMqB0wgAAwDcvl3TCAACA5TSNdMIAAAD5jIN0wgAAwKaSeXTCAABAuupvdMIAAABo8GV0wgAAwBX2W3TCAABAKU5SdMIAAADXU0h0wgAAgOqrPnTCAABAmLE0dMIAAABGtyp0wgAAACW0IXTCAADA0rkXdMIAAEDmEQ50wgAAAJQXBHTCAACAp2/6c8IAAEBVdfBzwgAAAAN75nPCAACAFtPcc8IAAEDE2NJzwgAAwNcwyXPCAACAhTa/c8IAAEAzPLVzwgAAQBI5rHPCAAAAwD6ic8IAAIDTlphzwgAAQIGcjnPCAADAlPSEc8IAAIBC+npzwgAAQPD/cHPCAADAA1hnc8IAAICxXV1zwgAAAMW1U3PCAADAcrtJc8IAAIAgwT9zwgAAwJlrNnPCAACAR3Esc8IAAABbySJzwgAAwAjPGHPCAABAHCcPc8IAAADKLAVzwgAAwHcy+3LCAABAi4rxcsIAAAA5kOdywgAAgEzo3XLCAABA+u3TcsIAAACo88lywgAAAIfwwHLCAADANPa2csIAAEBITq1ywgAAAPZTo3LCAACACayZcsIAAEC3sY9ywgAAAGW3hXLCAACAeA98csIAAEAmFXJywgAAwDltaHLCAACA53JecsIAAECVeFRywgAAQHR1S3LCAAAAIntBcsIAAIA10zdywgAAQOPYLXLCAADA9jAkcsIAAICkNhpywgAAQFI8EHLCAADAZZQGcsIAAIATmvxxwgAAACfy8nHCAADA1PfoccIAAICC/d5xwgAAgGH61XHCAABADwDMccIAAMAiWMJxwgAAgNBduHHCAAAA5LWuccIAAMCRu6RxwgAAgD/BmnHCAAAAUxmRccIAAMAAH4dxwgAAQBR3fXHCAAAAwnxzccIAAMBvgmlxwgAAAOksYHHCAADAljJWccIAAECqikxxwgAAAFiQQnHCAACAa+g4ccIAAEAZ7i5xwgAAAMfzJHHCAACA2ksbccIAAECIURFxwgAAwJupB3HCAACASa/9cMIAAED3tPNwwgAAQNax6nDCAAAAhLfgcMIAAICXD9dwwgAAQEUVzXDCAADAWG3DcMIAAIAGc7lwwgAAQLR4r3DCAADAx9ClcMIAAIB11ptwwgAAAIkuknDCAADANjSIcMIAAIDkOX5wwgAAgMM2dXDCAABAcTxrcMIAAMCElGFwwgAAgDKaV3DCAAAARvJNcMIAAMDz90NwwgAAgKH9OXDCAAAAtVUwcMIAAMBiWyZwwgAAQHazHHDCAAAAJLkScMIAAMDRvghwwgAAgGF3/2/CAAAAvYLrb8IAAADkMthvwgAAgD8+xG/CAACAZu6wb8IAAADC+ZxvwgAAgB0FiW/CAACARLV1b8IAAACgwGFvwgAAAMdwTm/CAACAInw6b8IAAAB+hyZvwgAAgHDcE2/CAAAAzOf/bsIAAADzl+xuwgAAgE6j2G7CAACAdVPFbsIAAADRXrFuwgAAgCxqnW7CAACAUxqKbsIAAACvJXZuwgAAANbVYm7CAACAMeFObsIAAACN7DpuwgAAAEvmKG7CAACApvEUbsIAAIDNoQFuwgAAACmt7W3CAAAAUF3abcIAAICraMZtwgAAAAd0sm3CAAAALiSfbcIAAICJL4ttwgAAgLDfd23CAAAADOtjbcIAAIBn9k9twgAAgCXwPW3CAAAAgfspbcIAAACoqxZtwgAAgAO3Am3CAACAKmfvbMIAAACGcttswgAAgOF9x2zCAACACC60bMIAAABkOaBswgAAAIvpjGzCAACA5vR4bMIAAABCAGVswgAAAAD6UmzCAACAWwU/bMIAAICCtStswgAAAN7AF2zCAAAABXEEbMIAAIBgfPBrwgAAALyH3GvCAAAA4zfJa8IAAIA+Q7VrwgAAgGXzoWvCAAAAwf6Na8IAAIAcCnprwgAAAA9fZ2vCAACAampTa8IAAICRGkBrwgAAAO0lLGvCAAAAFNYYa8IAAIBv4QRrwgAAAMvs8GrCAAAA8pzdasIAAIBNqMlqwgAAgHRYtmrCAAAA0GOiasIAAIArb45qwgAAgOlofGrCAAAARXRoasIAAABsJFVqwgAAgMcvQWrCAACA7t8tasIAAABK6xlqwgAAgKX2BWrCAACAzKbyacIAAAAost5pwgAAAE9iy2nCAACAqm23acIAAAAGeaNpwgAAAMRykWnCAACAH359acIAAIBGLmppwgAAAKI5VmnCAAAAyelCacIAAIAk9S5pwgAAAIAAG2nCAAAAp7AHacIAAIACvPNowgAAgCls4GjCAAAAhXfMaMIAAIDggrhowgAAgJ58pmjCAAAA+oeSaMIAAAAhOH9owgAAgHxDa2jCAACAo/NXaMIAAAD//kNowgAAgFoKMGjCAACAgbocaMIAAADdxQhowgAAAAR29WfCAACAX4HhZ8IAAAC7jM1nwgAAgK3humfCAAAACe2mZ8IAAAAwnZNnwgAAgIuof2fCAACAslhsZ8IAAAAOZFhnwgAAgGlvRGfCAACAkB8xZ8IAAADsKh1nwgAAABPbCWfCAACAbub1ZsIAAADK8eFmwgAAAIjrz2bCAACA4/a7ZsIAAIAKp6hmwgAAAGaylGbCAAAAjWKBZsIAAIDobW1mwgAAAER5WWbCAAAAaylGZsIAAIDGNDJmwgAAgO3kHmbCAAAASfAKZsIAAICk+/ZlwgAAgGL15GXCAAAAvgDRZcIAAADlsL1lwgAAgEC8qWXCAACAZ2yWZcIAAADDd4JlwgAAgB6DbmXCAACARTNbZcIAAAChPkdlwgAAAMjuM2XCAACAI/ofZcIAAAB/BQxlwgAAAD3/+WTCAACAmArmZMIAAIC/utJkwgAAABvGvmTCAAAAQnarZMIAAICdgZdkwgAAAPmMg2TCAAAAID1wZMIAAIB7SFxkwgAAgKL4SGTCAAAA/gM1ZMIAAIBZDyFkwgAAAExkDmTCAACAp2/6Y8IAAIDOH+djwgAAACor02PCAAAAUdu/Y8IAAICs5qtjwgAAAAjyl2PCAAAAL6KEY8IAAICKrXBjwgAAgLFdXWPCAAAADWlJY8IAAIBodDVjwgAAgCZuI2PCAAAAgnkPY8IAAACpKfxiwgAAgAQ16GLCAACAK+XUYsIAAACH8MBiwgAAgOL7rGLCAACACayZYsIAAABlt4ViwgAAAIxncmLCAACA53JeYsIAAABDfkpiwgAAAAF4OGLCAACAXIMkYsIAAICDMxFiwgAAAN8+/WHCAAAABu/pYcIAAIBh+tVhwgAAAL0FwmHCAAAA5LWuYcIAAIA/wZphwgAAgGZxh2HCAAAAwnxzYcIAAIAdiF9hwgAAgNuBTWHCAAAAN405YcIAAABePSZhwgAAgLlIEmHCAACA4Pj+YMIAAAA8BOtgwgAAgJcP12DCAACAvr/DYMIAAAAay69gwgAAAEF7nGDCAACAnIaIYMIAAAD4kXRgwgAAgOrmYWDCAAAARvJNYMIAAABtojpgwgAAgMitJmDCAACA710TYMIAAACW0v5fwgAAAE3p1l/CAAAAm0mwX8IAAABSYIhfwgAAAKDAYV/CAAAAV9c5X8IAAAAO7hFfwgAAAIrh7V7CAAAAQfjFXsIAAACPWJ9ewgAAAEZvd17CAAAAlM9QXsIAAABL5ihewgAAAAL9AF7CAAAAUF3aXcIAAAAHdLJdwgAAAFXUi13CAAAADOtjXcIAAADDATxdwgAAAD/1F13CAAAA9gvwXMIAAABEbMlcwgAAAPuCoVzCAAAASeN6XMIAAAAA+lJcwgAAALcQK1zCAAAABXEEXMIAAAC8h9xbwgAAAArotVvCAAAAwf6NW8IAAAB4FWZbwgAAAPQIQlvCAAAAqx8aW8IAAAD5f/NawgAAALCWy1rCAAAA/vakWsIAAAC1DX1awgAAAGwkVVrCAAAAuoQuWsIAAABxmwZawgAAAL/731nCAAAAdhK4WcIAAAAtKZBZwgAAABLTalnCAAAAyelCWcIAAAAXShxZwgAAAM5g9FjCAAAAHMHNWMIAAADT16VYwgAAAIrufVjCAAAA2E5XWMIAAACPZS9YwgAAAN3FCFjCAAAAlNzgV8IAAABL87hXwgAAAMfmlFfCAAAAfv1sV8IAAADMXUZXwgAAAIN0HlfCAAAA0dT3VsIAAACI689WwgAAAD8CqFbCAAAAjWKBVsIAAABEeVlWwgAAAJLZMlbCAAAASfAKVsIAAAAAB+NVwgAAAHz6vlXCAAAAMxGXVcIAAACBcXBVwgAAADiISFXCAAAAhughVcIAAAA9//lUwgAAAPQV0lTCAAAAQnarVMIAAAD5jINUwgAAAEftXFTCAAAA/gM1VMIAAAC1Gg1UwgAAADEO6VPCAAAA6CTBU8IAAAA2hZpTwgAAAO2bclPCAAAAO/xLU8IAAADyEiRTwgAAAKkp/FLCAAAA94nVUsIAAACuoK1SwgAAAPwAh1LCAAAAsxdfUsIAAABqLjdSwgAAAE/YEVLCAAAABu/pUcIAAABUT8NRwgAAAAtmm1HCAAAAWcZ0UcIAAAAQ3UxRwgAAAMfzJFHCAAAAFVT+UMIAAADMatZQwgAAABrLr1DCAAAA0eGHUMIAAACI+F9QwgAAAATsO1DCAAAAuwIUUMIAAAASxtpPwgAAAIDzik/CAAAAHLQ9T8IAAACK4e1OwgAAAPgOnk7CAAAAlM9QTsIAAAAC/QBOwgAAAJ69s03CAAAADOtjTcIAAAB6GBRNwgAAAHL/y0zCAAAA4Cx8TMIAAAB87S5MwgAAAOoa30vCAAAAhtuRS8IAAAD0CEJLwgAAAGI28krCAAAA/vakSsIAAABsJFVKwgAAAAjlB0rCAAAAdhK4ScIAAADkP2hJwgAAANwmIEnCAAAASlTQSMIAAADmFINIwgAAAFRCM0jCAAAA8ALmR8IAAABeMJZHwgAAAMxdRkfCAAAAaB75RsIAAADWS6lGwgAAAHIMXEbCAAAA4DkMRsIAAABOZ7xFwgAAABi7cUXCAAAAhughRcIAAAAiqdREwgAAAJDWhETCAAAALJc3RMIAAACaxOdDwgAAAAjyl0PCAAAApLJKQ8IAAAAS4PpCwgAAAK6grULCAAAAHM5dQsIAAACK+w1CwgAAAILixUHCAAAA8A92QcIAAACM0ChBwgAAAPr92EDCAAAAlr6LQMIAAAAE7DtAwgAAAOQy2D/CAAAAHLQ9P8IAAAD4Dp4+wgAAADCQAz7CAAAADOtjPcIAAADoRcQ8wgAAANgTNDzCAAAAtG6UO8IAAADs7/k6wgAAAMhKWjrCAAAAAMy/OcIAAADcJiA5wgAAALiBgDjCAAAA8ALmN8IAAADMXUY3wgAAAATfqzbCAAAA4DkMNsIAAAC8lGw1wgAAAKxi3DTCAAAAiL08NMIAAADAPqIzwgAAAJyZAjPCAAAA1BpoMsIAAACwdcgxwgAAAIzQKDHCAAAAxFGOMMIAAABAWd0vwgAAALBbqC7CAAAAaBFpLcIAAAAgxykswgAAAEgW/yrCAAAAAMy/KcIAAABwzooowgAAACiESyfCAAAAmIYWJsIAAABQPNckwgAAAAjylyPCAAAAePRiIsIAAAAwqiMhwgAAAEBZ3R/CAAAAsMReHcIAAAAgMOAawgAAAOBnnxjCAAAAUNMgFsIAAAAw2LYTwgAAAKBDOBHCAAAAAJGcDcIAAADgZ58IwgAAAMA+ogPCAAAAAJGc/cEAAADAPqLzwQAAAICk9OPBAAAAAAAAAAAAAACApPTjQQAAAEBz/fJBAAAAgMX3/EEAAAAA2U8DQgAAACACTQhCAAAAYPggDUIAAADAEA8RQgAAAFCljRNCAAAAcKD3FUIAAAAANXYYQgAAACAw4BpCAAAAsMReHUIAAABAWd0fQgAAAMAQDyFCAAAACFtOIkIAAACYWIMjQgAAAOCiwiRCAAAAcKD3JUIAAAC46jYnQgAAAAA1dihCAAAAkDKrKUIAAADYfOoqQgAAAGh6HyxCAAAAsMReLUIAAAD4Dp4uQgAAANC/yC9CAAAADAWEMEIAAADUgx4xQgAAAPgovjFCAAAAwKdYMkIAAADkTPgyQgAAAAjylzNCAAAA0HAyNEIAAAD0FdI0QgAAALyUbDVCAAAA4DkMNkIAAAAE36s2QgAAABQRPDdCAAAAOLbbN0IAAAAANXY4QgAAACTaFTlCAAAA7FiwOUIAAAAQ/k86QgAAADSj7zpCAAAA/CGKO0IAAAAgxyk8QgAAAOhFxDxCAAAADOtjPUIAAAAwkAM+QgAAAEDCkz5CAAAAZGczP0IAAAAs5s0/QgAAAKjFNkBCAAAADAWEQEIAAACe19NAQgAAADCqI0FCAAAAlOlwQUIAAAAmvMBBQgAAAIr7DUJCAAAAHM5dQkIAAACuoK1CQgAAALa59UJCAAAASIxFQ0IAAACsy5JDQgAAAD6e4kNCAAAAot0vREIAAAA0sH9EQgAAAMaCz0RCAAAAKsIcRUIAAAC8lGxFQgAAACDUuUVCAAAAsqYJRkIAAABEeVlGQgAAAHolpEZCAAAADPjzRkIAAABwN0FHQgAAAAIKkUdCAAAAZkneR0IAAAD4Gy5IQgAAAIrufUhCAAAA7i3LSEIAAACAABtJQgAAAOQ/aElCAAAAdhK4SUIAAAAI5QdKQgAAABD+T0pCAAAAotCfSkIAAAAGEO1KQgAAAJjiPEtCAAAA/CGKS0IAAACO9NlLQgAAACDHKUxCAAAAhAZ3TEIAAAAW2cZMQgAAAHoYFE1CAAAADOtjTUIAAACevbNNQgAAAKbW+01CAAAAOKlLTkIAAACc6JhOQgAAAC676E5CAAAAkvo1T0IAAAAkzYVPQgAAALaf1U9CAAAAjW8RUEIAAADWWDlQQgAAAIj4X1BCAAAA0eGHUEIAAAAay69QQgAAAJ7X01BCAAAA58D7UEIAAACZYCJRQgAAAOJJSlFCAAAAlOlwUUIAAADd0phRQgAAACa8wFFCAAAA2FvnUUIAAAAhRQ9SQgAAANPkNVJCAAAAHM5dUkIAAABlt4VSQgAAAIANq1JCAAAAyfbSUkIAAAB7lvlSQgAAAMR/IVNCAAAAdh9IU0IAAAC/CHBTQgAAAAjyl1NCAAAAupG+U0IAAAADe+ZTQgAAALUaDVRCAAAA/gM1VEIAAABH7VxUQgAAAMv5gFRCAAAAFOOoVEIAAADGgs9UQgAAAA9s91RCAAAAwQseVUIAAAAK9UVVQgAAAFPebVVCAAAABX6UVUIAAABOZ7xVQgAAAAAH41VCAAAASfAKVkIAAACS2TJWQgAAABbmVlZCAAAAX89+VkIAAAARb6VWQgAAAFpYzVZCAAAADPjzVkIAAABV4RtXQgAAAJ7KQ1dCAAAAUGpqV0IAAACZU5JXQgAAAEvzuFdCAAAAlNzgV0IAAADdxQhYQgAAAGHSLFhCAAAAqrtUWEIAAABcW3tYQgAAAKVEo1hCAAAAV+TJWEIAAACgzfFYQgAAAOm2GVlCAAAAm1ZAWUIAAADkP2hZQgAAAJbfjllCAAAA38i2WUIAAAAost5ZQgAAAEMIBFpCAAAAjPErWkIAAAA+kVJaQgAAAId6elpCAAAAORqhWkIAAACCA8laQgAAAMvs8FpCAAAAfYwXW0IAAADGdT9bQgAAAHgVZltCAAAAwf6NW0IAAAAK6LVbQgAAAI702VtCAAAA190BXEIAAACJfShcQgAAANJmUFxCAAAAhAZ3XEIAAADN755cQgAAABbZxlxCAAAAyHjtXEIAAAARYhVdQgAAAMMBPF1CAAAADOtjXUIAAABV1ItdQgAAANngr11CAAAAIsrXXUIAAADUaf5dQgAAAB1TJl5CAAAAz/JMXkIAAAAY3HReQgAAAGHFnF5CAAAAE2XDXkIAAABcTuteQgAAAA7uEV9CAAAAV9c5X0IAAACgwGFfQgAAACTNhV9CAAAAbbatX0IAAAAfVtRfQgAAAGg//F9CAAAAjW8RYEIAAIAxZCVgQgAAANZYOWBCAAAAr6hMYEIAAIBTnWBgQgAAgCztc2BCAAAA0eGHYEIAAIB11ptgQgAAAIOBrmBCAACAJ3bCYEIAAIAAxtVgQgAAAKW66WBCAAAAfgr9YEIAAIAi/xBhQgAAAMfzJGFCAAAAoEM4YUIAAIBEOExhQgAAgB2IX2FCAAAAwnxzYUIAAIBmcYdhQgAAgKh3mWFCAAAATWytYUIAAAAmvMBhQgAAgMqw1GFCAACAowDoYUIAAABI9fthQgAAgOzpD2JCAACAxTkjYkIAAABqLjdiQgAAAEN+SmJCAACA53JeYkIAAACMZ3JiQgAAAM5thGJCAACAcmKYYkIAAIBLsqtiQgAAAPCmv2JCAAAAyfbSYkIAAIBt6+ZiQgAAABLg+mJCAAAA6y8OY0IAAICPJCJjQgAAgGh0NWNCAAAADWlJY0IAAICxXV1jQgAAgPNjb2NCAAAAmFiDY0IAAABxqJZjQgAAgBWdqmNCAACA7uy9Y0IAAACT4dFjQgAAgDfW5WNCAACAECb5Y0IAAAC1Gg1kQgAAAI5qIGRCAACAMl80ZEIAAADXU0hkQgAAgOT+WmRCAAAAifNuZEIAAABiQ4JkQgAAgAY4lmRCAACA34epZEIAAACEfL1kQgAAgChx0WRCAACAAcHkZEIAAACmtfhkQgAAAH8FDGVCAACAI/ofZUIAAADI7jNlQgAAAAr1RWVCAACArulZZUIAAICHOW1lQgAAACwugWVCAAAABX6UZUIAAICpcqhlQgAAAE5nvGVCAAAAJ7fPZUIAAIDLq+NlQgAAgKT79mVCAAAASfAKZkIAAIDt5B5mQgAAgC/rMGZCAAAA1N9EZkIAAACtL1hmQgAAgFEkbGZCAACAKnR/ZkIAAADPaJNmQgAAgHNdp2ZCAACATK26ZkIAAADxoc5mQgAAAMrx4WZCAACAbub1ZkIAAAAT2wlnQgAAAFXhG2dCAACA+dUvZ0IAAIDSJUNnQgAAAHcaV2dCAAAAUGpqZ0IAAID0Xn5nQgAAAJlTkmdCAAAAcqOlZ0IAAIAWmLlnQgAAgO/nzGdCAAAAlNzgZ0IAAIA40fRnQgAAAEZ8B2hCAACA6nAbaEIAAIDDwC5oQgAAAGi1QmhCAAAAQQVWaEIAAIDl+WloQgAAAIrufWhCAAAAYz6RaEIAAIAHM6VoQgAAgOCCuGhCAAAAhXfMaEIAAIApbOBoQgAAgGty8mhCAAAAEGcGaUIAAADpthlpQgAAgI2rLWlCAACAZvtAaUIAAAAL8FRpQgAAgK/kaGlCAACAiDR8aUIAAAAtKZBpQgAAAAZ5o2lCAACAqm23aUIAAABPYstpQgAAAJFo3WlCAACANV3xaUIAAIAOrQRqQgAAALOhGGpCAAAAjPErakIAAIAw5j9qQgAAANXaU2pCAAAAripnakIAAIBSH3tqQgAAgCtvjmpCAAAA0GOiakIAAIB0WLZqQgAAgLZeyGpCAAAAW1PcakIAAAA0o+9qQgAAgNiXA2tCAACAsecWa0IAAABW3CprQgAAgPrQPmtCAACA0yBSa0IAAAB4FWZrQgAAAFFleWtCAACA9VmNa0IAAACaTqFrQgAAgKf5s2tCAAAATO7Ha0IAAAAlPttrQgAAgMky72tCAACAooICbEIAAABHdxZsQgAAgOtrKmxCAACAxLs9bEIAAABpsFFsQgAAAEIAZWxCAACA5vR4bEIAAACL6YxsQgAAAM3vnmxCAACAceSybEIAAIBKNMZsQgAAAO8o2mxCAAAAyHjtbEIAAIBsbQFtQgAAABFiFW1CAAAA6rEobUIAAICOpjxtQgAAgGf2T21CAAAADOtjbUIAAICw33dtQgAAgPLliW1CAAAAl9qdbUIAAABwKrFtQgAAgBQfxW1CAACA7W7YbUIAAACSY+xtQgAAgDZYAG5CAACAD6gTbkIAAAC0nCduQgAAAI3sOm5CAACAMeFObkIAAADW1WJuQgAAABjcdG5CAACAvNCIbkIAAICVIJxuQgAAADoVsG5CAAAAE2XDbkIAAIC3WdduQgAAAFxO625CAAAANZ7+bkIAAIDZkhJvQgAAgLLiJW9CAAAAV9c5b0IAAID7y01vQgAAAAl3YG9CAACArWt0b0IAAICGu4dvQgAAACuwm29CAAAABACvb0IAAICo9MJvQgAAAE3p1m9CAAAAJjnqb0IAAIDKLf5vQgAAwNG+CHBCAAAAJLkScEIAAEB2sxxwQgAAQJe2JXBCAACA6bAvcEIAAADWWDlwQgAAQChTQ3BCAADAFPtMcEIAAABn9VZwQgAAQLnvYHBCAADApZdqcEIAAAD4kXRwQgAAgOQ5fnBCAADANjSIcEIAAACJLpJwQgAAAKoxm3BCAABA/CulcEIAAMDo065wQgAAADvOuHBCAACAJ3bCcEIAAMB5cMxwQgAAAMxq1nBCAACAuBLgcEIAAMAKDepwQgAAQPe083BCAACASa/9cEIAAMCbqQdxQgAAwLysEHFCAAAAD6cacUIAAID7TiRxQgAAwE1JLnFCAABAOvE3cUIAAICM60FxQgAAwN7lS3FCAABAy41VcUIAAIAdiF9xQgAAAAowaXFCAABAXCpzcUIAAICuJH1xQgAAQDV6hnFCAACAh3SQcUIAAAB0HJpxQgAAQMYWpHFCAADAsr6tcUIAAAAFubdxQgAAQFezwXFCAADAQ1vLcUIAAACWVdVxQgAAgIL93nFCAADA1PfocUIAAAAn8vJxQgAAAEj1+3FCAABAmu8FckIAAMCGlw9yQgAAANmRGXJCAACAxTkjckIAAMAXNC1yQgAAAGouN3JCAACAVtZAckIAAMCo0EpyQgAAQJV4VHJCAACA53JeckIAAMA5bWhyQgAAwFpwcXJCAAAArWp7ckIAAICZEoVyQgAAwOsMj3JCAABA2LSYckIAAIAqr6JyQgAAwHyprHJCAABAaVG2ckIAAIC7S8ByQgAAAKjzyXJCAABA+u3TckIAAIBM6N1yQgAAgG3r5nJCAADAv+XwckIAAECsjfpyQgAAgP6HBHNCAAAA6y8Oc0IAAEA9KhhzQgAAgI8kInNCAAAAfMwrc0IAAEDOxjVzQgAAwLpuP3NCAAAADWlJc0IAAEBfY1NzQgAAAOa4XHNCAABAOLNmc0IAAMAkW3BzQgAAAHdVenNCAACAY/2Dc0IAAMC1941zQgAAAAjyl3NCAACA9Jmhc0IAAMBGlKtzQgAAQDM8tXNCAACAhTa/c0IAAMDXMMlzQgAAwPgz0nNCAAAASy7cc0IAAIA31uVzQgAAwInQ73NCAABAdnj5c0IAAIDIcgN0QgAAwBptDXRCAABABxUXdEIAAIBZDyF0QgAAAEa3KnRCAABAmLE0dEIAAIDqqz50QgAAgAuvR3RCAADAXalRdEIAAEBKUVt0QgAAgJxLZXRCAAAAifNudEIAAEDb7Xh0QgAAgC3ognRCAAAAGpCMdEIAAEBsipZ0QgAAwFgyoHRCAAAAqyyqdEIAAED9JrR0QgAAQB4qvXRCAACAcCTHdEIAAABdzNB0QgAAQK/G2nRCAADAm27kdEIAAADuaO50QgAAQEBj+HRCAADALAsCdUIAAAB/BQx1QgAAgGutFXVCAADAvacfdUIAAAAQoil1QgAAwJb3MnVCAAAA6fE8dUIAAIDVmUZ1QgAAwCeUUHVCAABAFDxadUIAAIBmNmR1QgAAwLgwbnVCAABApdh3dUIAAID30oF1QgAAAOR6i3VCAABANnWVdUIAAICIb591QgAAgKlyqHVCAADA+2yydUIAAEDoFLx1QgAAgDoPxnVCAAAAJ7fPdUIAAEB5sdl1QgAAgMur43VCAAAAuFPtdUIAAEAKTvd1QgAAwPb1AHZC\",\"dtype\":\"float64\",\"shape\":[1656]},\"y\":{\"__ndarray__\":\"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\",\"dtype\":\"float64\",\"shape\":[1656]}}},\"id\":\"1c64f05c-4765-4b45-9f75-6f6219f1684f\",\"type\":\"ColumnDataSource\"},{\"attributes\":{\"label\":{\"value\":\"Datos Mensuales\"},\"renderers\":[{\"id\":\"39da6b65-792b-47dd-8459-654a9f3e679e\",\"type\":\"GlyphRenderer\"}]},\"id\":\"36b8929a-66c2-4c58-b6d0-6a62019bfe54\",\"type\":\"LegendItem\"},{\"attributes\":{},\"id\":\"b06e3a3b-050b-48c8-92e1-c260cd9bb22b\",\"type\":\"YearsTicker\"},{\"attributes\":{\"base\":24,\"mantissas\":[1,2,4,6,8,12],\"max_interval\":43200000.0,\"min_interval\":3600000.0,\"num_minor_ticks\":0},\"id\":\"5a09ebff-41de-468e-9d3a-19300ca7a68e\",\"type\":\"AdaptiveTicker\"},{\"attributes\":{\"days\":[1,8,15,22]},\"id\":\"f95649d9-9d93-479e-960d-9afe60f9a924\",\"type\":\"DaysTicker\"},{\"attributes\":{\"callback\":null},\"id\":\"0095b959-a95c-4e86-97a4-d6d71a909f2d\",\"type\":\"DataRange1d\"},{\"attributes\":{\"data_source\":{\"id\":\"3ff942eb-2b0b-451e-8829-45776ffee507\",\"type\":\"ColumnDataSource\"},\"glyph\":{\"id\":\"25e5d178-397a-4c79-ab84-a00a90f400d6\",\"type\":\"Line\"},\"hover_glyph\":null,\"muted_glyph\":null,\"nonselection_glyph\":{\"id\":\"5f3a7d8e-9500-43b2-8411-529ca8047c2f\",\"type\":\"Line\"},\"selection_glyph\":null,\"view\":{\"id\":\"95671230-8db8-46f4-9084-df6e57746bea\",\"type\":\"CDSView\"}},\"id\":\"0f9fba97-e746-4906-87aa-6feede13d126\",\"type\":\"GlyphRenderer\"},{\"attributes\":{\"align\":\"center\",\"plot\":null,\"text\":\"Anomal\\u00eda de Temperatura Respecto a la Media entre 1901-2000\",\"text_color\":{\"value\":\"black\"},\"text_font\":\"garamond\",\"text_font_size\":{\"value\":\"16pt\"}},\"id\":\"444e1ea1-93a1-469d-914e-3519f27411f6\",\"type\":\"Title\"},{\"attributes\":{\"grid_line_alpha\":{\"value\":0.1},\"grid_line_color\":{\"value\":\"blue\"},\"plot\":{\"id\":\"5a569829-66a4-4d6e-9081-6ed70d9da06e\",\"subtype\":\"Figure\",\"type\":\"Plot\"},\"ticker\":{\"id\":\"ccc49224-6477-4ffd-aabd-7408bbd09fc0\",\"type\":\"DatetimeTicker\"}},\"id\":\"831e92b6-22bc-48de-8d51-22d6a1d10cc6\",\"type\":\"Grid\"},{\"attributes\":{\"data_source\":{\"id\":\"f8bf5260-1ec8-4b20-9e1c-49d6748784ad\",\"type\":\"ColumnDataSource\"},\"glyph\":{\"id\":\"c2b10a91-456a-4231-8813-81278cde1f93\",\"type\":\"Line\"},\"hover_glyph\":null,\"muted_glyph\":null,\"nonselection_glyph\":{\"id\":\"b4f1fab0-7de9-4d26-9502-da16ac7c0073\",\"type\":\"Line\"},\"selection_glyph\":null,\"view\":{\"id\":\"86f49087-d299-48ba-a8f5-44c906dd6154\",\"type\":\"CDSView\"}},\"id\":\"deed3845-056f-4dc7-af55-e1a48bbc3e73\",\"type\":\"GlyphRenderer\"},{\"attributes\":{\"items\":[{\"id\":\"36b8929a-66c2-4c58-b6d0-6a62019bfe54\",\"type\":\"LegendItem\"},{\"id\":\"af89ae19-2e1a-4b09-aec1-3c09d1475217\",\"type\":\"LegendItem\"},{\"id\":\"b75163e4-1efd-4591-8c8b-b18c894177d2\",\"type\":\"LegendItem\"}],\"location\":\"top_left\",\"plot\":{\"id\":\"5a569829-66a4-4d6e-9081-6ed70d9da06e\",\"subtype\":\"Figure\",\"type\":\"Plot\"}},\"id\":\"3cf06785-5d0e-4003-86b8-5fd9fe10f0b4\",\"type\":\"Legend\"},{\"attributes\":{},\"id\":\"7cc97c98-2e8d-4d58-8a60-61c3b41bd6ae\",\"type\":\"PanTool\"},{\"attributes\":{\"active_drag\":{\"id\":\"7cc97c98-2e8d-4d58-8a60-61c3b41bd6ae\",\"type\":\"PanTool\"},\"active_inspect\":\"auto\",\"active_scroll\":{\"id\":\"475799c3-8fca-4385-b7aa-d324e33b104a\",\"type\":\"WheelZoomTool\"},\"active_tap\":\"auto\",\"tools\":[{\"id\":\"7cc97c98-2e8d-4d58-8a60-61c3b41bd6ae\",\"type\":\"PanTool\"},{\"id\":\"475799c3-8fca-4385-b7aa-d324e33b104a\",\"type\":\"WheelZoomTool\"},{\"id\":\"daa05bfd-880f-4f68-90de-5a3b904f6a2a\",\"type\":\"BoxZoomTool\"},{\"id\":\"8e299693-6374-45fc-bd77-e9f8f9fe74fd\",\"type\":\"SaveTool\"},{\"id\":\"0a9763f3-fd51-4ed6-bd0e-917332674e48\",\"type\":\"ResetTool\"}]},\"id\":\"f0e08184-f326-45d1-9b22-1e207e80fa33\",\"type\":\"Toolbar\"},{\"attributes\":{\"days\":[1,4,7,10,13,16,19,22,25,28]},\"id\":\"d8c5c3be-2b73-4ae9-9983-9ab5283f2588\",\"type\":\"DaysTicker\"},{\"attributes\":{\"days\":[1,15]},\"id\":\"ce879fcc-6d10-4153-bb27-17315a4dedef\",\"type\":\"DaysTicker\"},{\"attributes\":{\"line_alpha\":{\"value\":0.1},\"line_color\":{\"value\":\"#1f77b4\"},\"line_width\":{\"value\":3},\"x\":{\"field\":\"x\"},\"y\":{\"field\":\"y\"}},\"id\":\"5f3a7d8e-9500-43b2-8411-529ca8047c2f\",\"type\":\"Line\"},{\"attributes\":{\"overlay\":{\"id\":\"787f3a08-b56d-4479-95a4-5f9a7a413cab\",\"type\":\"BoxAnnotation\"}},\"id\":\"daa05bfd-880f-4f68-90de-5a3b904f6a2a\",\"type\":\"BoxZoomTool\"},{\"attributes\":{},\"id\":\"6a0ac04d-213d-4d90-9d54-534f97beab75\",\"type\":\"BasicTickFormatter\"}],\"root_ids\":[\"5a569829-66a4-4d6e-9081-6ed70d9da06e\"]},\"title\":\"Bokeh Application\",\"version\":\"0.12.10\"}};\n",
       "    var render_items = [{\"docid\":\"992e32d4-3290-46ac-9fcc-36647c930b2c\",\"elementid\":\"daa76e40-01c5-45ab-a42c-c31155c890ed\",\"modelid\":\"5a569829-66a4-4d6e-9081-6ed70d9da06e\"}];\n",
       "\n",
       "    root.Bokeh.embed.embed_items(docs_json, render_items);\n",
       "  }\n",
       "\n",
       "  if (root.Bokeh !== undefined) {\n",
       "    embed_document(root);\n",
       "  } else {\n",
       "    var attempts = 0;\n",
       "    var timer = setInterval(function(root) {\n",
       "      if (root.Bokeh !== undefined) {\n",
       "        embed_document(root);\n",
       "        clearInterval(timer);\n",
       "      }\n",
       "      attempts++;\n",
       "      if (attempts > 100) {\n",
       "        console.log(\"Bokeh: ERROR: Unable to embed document because BokehJS library is missing\")\n",
       "        clearInterval(timer);\n",
       "      }\n",
       "    }, 10, root)\n",
       "  }\n",
       "})(window);"
      ],
      "application/vnd.bokehjs_exec.v0+json": ""
     },
     "metadata": {
      "application/vnd.bokehjs_exec.v0+json": {
       "id": "5a569829-66a4-4d6e-9081-6ed70d9da06e"
      }
     },
     "output_type": "display_data"
    }
   ],
   "source": [
    "#Muestro el gráfico\n",
    "bkp.output_notebook()\n",
    "bkp.show(p)"
   ]
  },
  {
   "cell_type": "code",
   "execution_count": 0,
   "metadata": {
    "colab": {
     "autoexec": {
      "startup": false,
      "wait_interval": 0
     }
    },
    "colab_type": "code",
    "id": "bZNzz5rmlFBV"
   },
   "outputs": [],
   "source": []
  }
 ],
 "metadata": {
  "colab": {
   "default_view": {},
   "name": "AnomaliaTemperatura.ipynb",
   "provenance": [],
   "version": "0.3.2",
   "views": {}
  },
  "kernelspec": {
   "display_name": "Python 2",
   "language": "python",
   "name": "python2"
  }
 },
 "nbformat": 4,
 "nbformat_minor": 1
}
